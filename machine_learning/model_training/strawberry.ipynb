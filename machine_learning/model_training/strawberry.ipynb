{
  "nbformat": 4,
  "nbformat_minor": 0,
  "metadata": {
    "colab": {
      "name": "strawberry.ipynb",
      "provenance": [],
      "collapsed_sections": [],
      "toc_visible": true,
      "include_colab_link": true
    },
    "kernelspec": {
      "display_name": "Python 3",
      "name": "python3"
    },
    "accelerator": "GPU"
  },
  "cells": [
    {
      "cell_type": "markdown",
      "metadata": {
        "id": "view-in-github",
        "colab_type": "text"
      },
      "source": [
        "<a href=\"https://colab.research.google.com/github/brymer-meneses/chloroplast/blob/main/machine_learning/model_training/strawberry.ipynb\" target=\"_parent\"><img src=\"https://colab.research.google.com/assets/colab-badge.svg\" alt=\"Open In Colab\"/></a>"
      ]
    },
    {
      "cell_type": "markdown",
      "metadata": {
        "id": "PddQCAHZvrzr"
      },
      "source": [
        "# Prerequisites\r\n"
      ]
    },
    {
      "cell_type": "code",
      "metadata": {
        "colab": {
          "base_uri": "https://localhost:8080/"
        },
        "id": "20VyBM9e-S3U",
        "outputId": "64270ced-8dac-4db0-9d2e-d756f7b89332"
      },
      "source": [
        "!pip install tensorflow-addons"
      ],
      "execution_count": 1,
      "outputs": [
        {
          "output_type": "stream",
          "text": [
            "Collecting tensorflow-addons\n",
            "\u001b[?25l  Downloading https://files.pythonhosted.org/packages/74/e3/56d2fe76f0bb7c88ed9b2a6a557e25e83e252aec08f13de34369cd850a0b/tensorflow_addons-0.12.1-cp37-cp37m-manylinux2010_x86_64.whl (703kB)\n",
            "\r\u001b[K     |▌                               | 10kB 20.8MB/s eta 0:00:01\r\u001b[K     |█                               | 20kB 27.6MB/s eta 0:00:01\r\u001b[K     |█▍                              | 30kB 21.5MB/s eta 0:00:01\r\u001b[K     |█▉                              | 40kB 16.8MB/s eta 0:00:01\r\u001b[K     |██▎                             | 51kB 15.4MB/s eta 0:00:01\r\u001b[K     |██▉                             | 61kB 13.9MB/s eta 0:00:01\r\u001b[K     |███▎                            | 71kB 15.3MB/s eta 0:00:01\r\u001b[K     |███▊                            | 81kB 15.4MB/s eta 0:00:01\r\u001b[K     |████▏                           | 92kB 13.8MB/s eta 0:00:01\r\u001b[K     |████▋                           | 102kB 12.7MB/s eta 0:00:01\r\u001b[K     |█████▏                          | 112kB 12.7MB/s eta 0:00:01\r\u001b[K     |█████▋                          | 122kB 12.7MB/s eta 0:00:01\r\u001b[K     |██████                          | 133kB 12.7MB/s eta 0:00:01\r\u001b[K     |██████▌                         | 143kB 12.7MB/s eta 0:00:01\r\u001b[K     |███████                         | 153kB 12.7MB/s eta 0:00:01\r\u001b[K     |███████▌                        | 163kB 12.7MB/s eta 0:00:01\r\u001b[K     |████████                        | 174kB 12.7MB/s eta 0:00:01\r\u001b[K     |████████▍                       | 184kB 12.7MB/s eta 0:00:01\r\u001b[K     |████████▉                       | 194kB 12.7MB/s eta 0:00:01\r\u001b[K     |█████████▎                      | 204kB 12.7MB/s eta 0:00:01\r\u001b[K     |█████████▉                      | 215kB 12.7MB/s eta 0:00:01\r\u001b[K     |██████████▎                     | 225kB 12.7MB/s eta 0:00:01\r\u001b[K     |██████████▊                     | 235kB 12.7MB/s eta 0:00:01\r\u001b[K     |███████████▏                    | 245kB 12.7MB/s eta 0:00:01\r\u001b[K     |███████████▋                    | 256kB 12.7MB/s eta 0:00:01\r\u001b[K     |████████████▏                   | 266kB 12.7MB/s eta 0:00:01\r\u001b[K     |████████████▋                   | 276kB 12.7MB/s eta 0:00:01\r\u001b[K     |█████████████                   | 286kB 12.7MB/s eta 0:00:01\r\u001b[K     |█████████████▌                  | 296kB 12.7MB/s eta 0:00:01\r\u001b[K     |██████████████                  | 307kB 12.7MB/s eta 0:00:01\r\u001b[K     |██████████████▍                 | 317kB 12.7MB/s eta 0:00:01\r\u001b[K     |███████████████                 | 327kB 12.7MB/s eta 0:00:01\r\u001b[K     |███████████████▍                | 337kB 12.7MB/s eta 0:00:01\r\u001b[K     |███████████████▉                | 348kB 12.7MB/s eta 0:00:01\r\u001b[K     |████████████████▎               | 358kB 12.7MB/s eta 0:00:01\r\u001b[K     |████████████████▊               | 368kB 12.7MB/s eta 0:00:01\r\u001b[K     |█████████████████▎              | 378kB 12.7MB/s eta 0:00:01\r\u001b[K     |█████████████████▊              | 389kB 12.7MB/s eta 0:00:01\r\u001b[K     |██████████████████▏             | 399kB 12.7MB/s eta 0:00:01\r\u001b[K     |██████████████████▋             | 409kB 12.7MB/s eta 0:00:01\r\u001b[K     |███████████████████             | 419kB 12.7MB/s eta 0:00:01\r\u001b[K     |███████████████████▋            | 430kB 12.7MB/s eta 0:00:01\r\u001b[K     |████████████████████            | 440kB 12.7MB/s eta 0:00:01\r\u001b[K     |████████████████████▌           | 450kB 12.7MB/s eta 0:00:01\r\u001b[K     |█████████████████████           | 460kB 12.7MB/s eta 0:00:01\r\u001b[K     |█████████████████████▍          | 471kB 12.7MB/s eta 0:00:01\r\u001b[K     |██████████████████████          | 481kB 12.7MB/s eta 0:00:01\r\u001b[K     |██████████████████████▍         | 491kB 12.7MB/s eta 0:00:01\r\u001b[K     |██████████████████████▉         | 501kB 12.7MB/s eta 0:00:01\r\u001b[K     |███████████████████████▎        | 512kB 12.7MB/s eta 0:00:01\r\u001b[K     |███████████████████████▊        | 522kB 12.7MB/s eta 0:00:01\r\u001b[K     |████████████████████████▎       | 532kB 12.7MB/s eta 0:00:01\r\u001b[K     |████████████████████████▊       | 542kB 12.7MB/s eta 0:00:01\r\u001b[K     |█████████████████████████▏      | 552kB 12.7MB/s eta 0:00:01\r\u001b[K     |█████████████████████████▋      | 563kB 12.7MB/s eta 0:00:01\r\u001b[K     |██████████████████████████      | 573kB 12.7MB/s eta 0:00:01\r\u001b[K     |██████████████████████████▋     | 583kB 12.7MB/s eta 0:00:01\r\u001b[K     |███████████████████████████     | 593kB 12.7MB/s eta 0:00:01\r\u001b[K     |███████████████████████████▌    | 604kB 12.7MB/s eta 0:00:01\r\u001b[K     |████████████████████████████    | 614kB 12.7MB/s eta 0:00:01\r\u001b[K     |████████████████████████████▍   | 624kB 12.7MB/s eta 0:00:01\r\u001b[K     |████████████████████████████▉   | 634kB 12.7MB/s eta 0:00:01\r\u001b[K     |█████████████████████████████▍  | 645kB 12.7MB/s eta 0:00:01\r\u001b[K     |█████████████████████████████▉  | 655kB 12.7MB/s eta 0:00:01\r\u001b[K     |██████████████████████████████▎ | 665kB 12.7MB/s eta 0:00:01\r\u001b[K     |██████████████████████████████▊ | 675kB 12.7MB/s eta 0:00:01\r\u001b[K     |███████████████████████████████▏| 686kB 12.7MB/s eta 0:00:01\r\u001b[K     |███████████████████████████████▊| 696kB 12.7MB/s eta 0:00:01\r\u001b[K     |████████████████████████████████| 706kB 12.7MB/s \n",
            "\u001b[?25hRequirement already satisfied: typeguard>=2.7 in /usr/local/lib/python3.7/dist-packages (from tensorflow-addons) (2.7.1)\n",
            "Installing collected packages: tensorflow-addons\n",
            "Successfully installed tensorflow-addons-0.12.1\n"
          ],
          "name": "stdout"
        }
      ]
    },
    {
      "cell_type": "code",
      "metadata": {
        "colab": {
          "base_uri": "https://localhost:8080/"
        },
        "id": "Bc7jW_C8HgVy",
        "outputId": "c1b0c687-1d90-4c80-db23-d891bedae562"
      },
      "source": [
        "!pip install mlxtend --upgrade --no-deps"
      ],
      "execution_count": 2,
      "outputs": [
        {
          "output_type": "stream",
          "text": [
            "Collecting mlxtend\n",
            "\u001b[?25l  Downloading https://files.pythonhosted.org/packages/86/30/781c0b962a70848db83339567ecab656638c62f05adb064cb33c0ae49244/mlxtend-0.18.0-py2.py3-none-any.whl (1.3MB)\n",
            "\r\u001b[K     |▎                               | 10kB 19.4MB/s eta 0:00:01\r\u001b[K     |▌                               | 20kB 26.6MB/s eta 0:00:01\r\u001b[K     |▊                               | 30kB 22.1MB/s eta 0:00:01\r\u001b[K     |█                               | 40kB 18.2MB/s eta 0:00:01\r\u001b[K     |█▏                              | 51kB 17.1MB/s eta 0:00:01\r\u001b[K     |█▌                              | 61kB 16.6MB/s eta 0:00:01\r\u001b[K     |█▊                              | 71kB 14.7MB/s eta 0:00:01\r\u001b[K     |██                              | 81kB 14.4MB/s eta 0:00:01\r\u001b[K     |██▏                             | 92kB 15.5MB/s eta 0:00:01\r\u001b[K     |██▍                             | 102kB 16.7MB/s eta 0:00:01\r\u001b[K     |██▊                             | 112kB 16.7MB/s eta 0:00:01\r\u001b[K     |███                             | 122kB 16.7MB/s eta 0:00:01\r\u001b[K     |███▏                            | 133kB 16.7MB/s eta 0:00:01\r\u001b[K     |███▍                            | 143kB 16.7MB/s eta 0:00:01\r\u001b[K     |███▋                            | 153kB 16.7MB/s eta 0:00:01\r\u001b[K     |████                            | 163kB 16.7MB/s eta 0:00:01\r\u001b[K     |████▏                           | 174kB 16.7MB/s eta 0:00:01\r\u001b[K     |████▍                           | 184kB 16.7MB/s eta 0:00:01\r\u001b[K     |████▋                           | 194kB 16.7MB/s eta 0:00:01\r\u001b[K     |████▉                           | 204kB 16.7MB/s eta 0:00:01\r\u001b[K     |█████▏                          | 215kB 16.7MB/s eta 0:00:01\r\u001b[K     |█████▍                          | 225kB 16.7MB/s eta 0:00:01\r\u001b[K     |█████▋                          | 235kB 16.7MB/s eta 0:00:01\r\u001b[K     |█████▉                          | 245kB 16.7MB/s eta 0:00:01\r\u001b[K     |██████                          | 256kB 16.7MB/s eta 0:00:01\r\u001b[K     |██████▎                         | 266kB 16.7MB/s eta 0:00:01\r\u001b[K     |██████▋                         | 276kB 16.7MB/s eta 0:00:01\r\u001b[K     |██████▉                         | 286kB 16.7MB/s eta 0:00:01\r\u001b[K     |███████                         | 296kB 16.7MB/s eta 0:00:01\r\u001b[K     |███████▎                        | 307kB 16.7MB/s eta 0:00:01\r\u001b[K     |███████▌                        | 317kB 16.7MB/s eta 0:00:01\r\u001b[K     |███████▉                        | 327kB 16.7MB/s eta 0:00:01\r\u001b[K     |████████                        | 337kB 16.7MB/s eta 0:00:01\r\u001b[K     |████████▎                       | 348kB 16.7MB/s eta 0:00:01\r\u001b[K     |████████▌                       | 358kB 16.7MB/s eta 0:00:01\r\u001b[K     |████████▊                       | 368kB 16.7MB/s eta 0:00:01\r\u001b[K     |█████████                       | 378kB 16.7MB/s eta 0:00:01\r\u001b[K     |█████████▎                      | 389kB 16.7MB/s eta 0:00:01\r\u001b[K     |█████████▌                      | 399kB 16.7MB/s eta 0:00:01\r\u001b[K     |█████████▊                      | 409kB 16.7MB/s eta 0:00:01\r\u001b[K     |██████████                      | 419kB 16.7MB/s eta 0:00:01\r\u001b[K     |██████████▎                     | 430kB 16.7MB/s eta 0:00:01\r\u001b[K     |██████████▌                     | 440kB 16.7MB/s eta 0:00:01\r\u001b[K     |██████████▊                     | 450kB 16.7MB/s eta 0:00:01\r\u001b[K     |███████████                     | 460kB 16.7MB/s eta 0:00:01\r\u001b[K     |███████████▏                    | 471kB 16.7MB/s eta 0:00:01\r\u001b[K     |███████████▌                    | 481kB 16.7MB/s eta 0:00:01\r\u001b[K     |███████████▊                    | 491kB 16.7MB/s eta 0:00:01\r\u001b[K     |████████████                    | 501kB 16.7MB/s eta 0:00:01\r\u001b[K     |████████████▏                   | 512kB 16.7MB/s eta 0:00:01\r\u001b[K     |████████████▍                   | 522kB 16.7MB/s eta 0:00:01\r\u001b[K     |████████████▋                   | 532kB 16.7MB/s eta 0:00:01\r\u001b[K     |█████████████                   | 542kB 16.7MB/s eta 0:00:01\r\u001b[K     |█████████████▏                  | 552kB 16.7MB/s eta 0:00:01\r\u001b[K     |█████████████▍                  | 563kB 16.7MB/s eta 0:00:01\r\u001b[K     |█████████████▋                  | 573kB 16.7MB/s eta 0:00:01\r\u001b[K     |█████████████▉                  | 583kB 16.7MB/s eta 0:00:01\r\u001b[K     |██████████████▏                 | 593kB 16.7MB/s eta 0:00:01\r\u001b[K     |██████████████▍                 | 604kB 16.7MB/s eta 0:00:01\r\u001b[K     |██████████████▋                 | 614kB 16.7MB/s eta 0:00:01\r\u001b[K     |██████████████▉                 | 624kB 16.7MB/s eta 0:00:01\r\u001b[K     |███████████████                 | 634kB 16.7MB/s eta 0:00:01\r\u001b[K     |███████████████▍                | 645kB 16.7MB/s eta 0:00:01\r\u001b[K     |███████████████▋                | 655kB 16.7MB/s eta 0:00:01\r\u001b[K     |███████████████▉                | 665kB 16.7MB/s eta 0:00:01\r\u001b[K     |████████████████                | 675kB 16.7MB/s eta 0:00:01\r\u001b[K     |████████████████▎               | 686kB 16.7MB/s eta 0:00:01\r\u001b[K     |████████████████▋               | 696kB 16.7MB/s eta 0:00:01\r\u001b[K     |████████████████▉               | 706kB 16.7MB/s eta 0:00:01\r\u001b[K     |█████████████████               | 716kB 16.7MB/s eta 0:00:01\r\u001b[K     |█████████████████▎              | 727kB 16.7MB/s eta 0:00:01\r\u001b[K     |█████████████████▌              | 737kB 16.7MB/s eta 0:00:01\r\u001b[K     |█████████████████▊              | 747kB 16.7MB/s eta 0:00:01\r\u001b[K     |██████████████████              | 757kB 16.7MB/s eta 0:00:01\r\u001b[K     |██████████████████▎             | 768kB 16.7MB/s eta 0:00:01\r\u001b[K     |██████████████████▌             | 778kB 16.7MB/s eta 0:00:01\r\u001b[K     |██████████████████▊             | 788kB 16.7MB/s eta 0:00:01\r\u001b[K     |███████████████████             | 798kB 16.7MB/s eta 0:00:01\r\u001b[K     |███████████████████▎            | 808kB 16.7MB/s eta 0:00:01\r\u001b[K     |███████████████████▌            | 819kB 16.7MB/s eta 0:00:01\r\u001b[K     |███████████████████▊            | 829kB 16.7MB/s eta 0:00:01\r\u001b[K     |████████████████████            | 839kB 16.7MB/s eta 0:00:01\r\u001b[K     |████████████████████▏           | 849kB 16.7MB/s eta 0:00:01\r\u001b[K     |████████████████████▌           | 860kB 16.7MB/s eta 0:00:01\r\u001b[K     |████████████████████▊           | 870kB 16.7MB/s eta 0:00:01\r\u001b[K     |█████████████████████           | 880kB 16.7MB/s eta 0:00:01\r\u001b[K     |█████████████████████▏          | 890kB 16.7MB/s eta 0:00:01\r\u001b[K     |█████████████████████▍          | 901kB 16.7MB/s eta 0:00:01\r\u001b[K     |█████████████████████▊          | 911kB 16.7MB/s eta 0:00:01\r\u001b[K     |██████████████████████          | 921kB 16.7MB/s eta 0:00:01\r\u001b[K     |██████████████████████▏         | 931kB 16.7MB/s eta 0:00:01\r\u001b[K     |██████████████████████▍         | 942kB 16.7MB/s eta 0:00:01\r\u001b[K     |██████████████████████▋         | 952kB 16.7MB/s eta 0:00:01\r\u001b[K     |███████████████████████         | 962kB 16.7MB/s eta 0:00:01\r\u001b[K     |███████████████████████▏        | 972kB 16.7MB/s eta 0:00:01\r\u001b[K     |███████████████████████▍        | 983kB 16.7MB/s eta 0:00:01\r\u001b[K     |███████████████████████▋        | 993kB 16.7MB/s eta 0:00:01\r\u001b[K     |███████████████████████▉        | 1.0MB 16.7MB/s eta 0:00:01\r\u001b[K     |████████████████████████        | 1.0MB 16.7MB/s eta 0:00:01\r\u001b[K     |████████████████████████▍       | 1.0MB 16.7MB/s eta 0:00:01\r\u001b[K     |████████████████████████▋       | 1.0MB 16.7MB/s eta 0:00:01\r\u001b[K     |████████████████████████▉       | 1.0MB 16.7MB/s eta 0:00:01\r\u001b[K     |█████████████████████████       | 1.1MB 16.7MB/s eta 0:00:01\r\u001b[K     |█████████████████████████▎      | 1.1MB 16.7MB/s eta 0:00:01\r\u001b[K     |█████████████████████████▋      | 1.1MB 16.7MB/s eta 0:00:01\r\u001b[K     |█████████████████████████▉      | 1.1MB 16.7MB/s eta 0:00:01\r\u001b[K     |██████████████████████████      | 1.1MB 16.7MB/s eta 0:00:01\r\u001b[K     |██████████████████████████▎     | 1.1MB 16.7MB/s eta 0:00:01\r\u001b[K     |██████████████████████████▌     | 1.1MB 16.7MB/s eta 0:00:01\r\u001b[K     |██████████████████████████▉     | 1.1MB 16.7MB/s eta 0:00:01\r\u001b[K     |███████████████████████████     | 1.1MB 16.7MB/s eta 0:00:01\r\u001b[K     |███████████████████████████▎    | 1.1MB 16.7MB/s eta 0:00:01\r\u001b[K     |███████████████████████████▌    | 1.2MB 16.7MB/s eta 0:00:01\r\u001b[K     |███████████████████████████▊    | 1.2MB 16.7MB/s eta 0:00:01\r\u001b[K     |████████████████████████████    | 1.2MB 16.7MB/s eta 0:00:01\r\u001b[K     |████████████████████████████▎   | 1.2MB 16.7MB/s eta 0:00:01\r\u001b[K     |████████████████████████████▌   | 1.2MB 16.7MB/s eta 0:00:01\r\u001b[K     |████████████████████████████▊   | 1.2MB 16.7MB/s eta 0:00:01\r\u001b[K     |█████████████████████████████   | 1.2MB 16.7MB/s eta 0:00:01\r\u001b[K     |█████████████████████████████▏  | 1.2MB 16.7MB/s eta 0:00:01\r\u001b[K     |█████████████████████████████▌  | 1.2MB 16.7MB/s eta 0:00:01\r\u001b[K     |█████████████████████████████▊  | 1.2MB 16.7MB/s eta 0:00:01\r\u001b[K     |██████████████████████████████  | 1.3MB 16.7MB/s eta 0:00:01\r\u001b[K     |██████████████████████████████▏ | 1.3MB 16.7MB/s eta 0:00:01\r\u001b[K     |██████████████████████████████▍ | 1.3MB 16.7MB/s eta 0:00:01\r\u001b[K     |██████████████████████████████▊ | 1.3MB 16.7MB/s eta 0:00:01\r\u001b[K     |███████████████████████████████ | 1.3MB 16.7MB/s eta 0:00:01\r\u001b[K     |███████████████████████████████▏| 1.3MB 16.7MB/s eta 0:00:01\r\u001b[K     |███████████████████████████████▍| 1.3MB 16.7MB/s eta 0:00:01\r\u001b[K     |███████████████████████████████▋| 1.3MB 16.7MB/s eta 0:00:01\r\u001b[K     |████████████████████████████████| 1.3MB 16.7MB/s eta 0:00:01\r\u001b[K     |████████████████████████████████| 1.4MB 16.7MB/s \n",
            "\u001b[?25hInstalling collected packages: mlxtend\n",
            "  Found existing installation: mlxtend 0.14.0\n",
            "    Uninstalling mlxtend-0.14.0:\n",
            "      Successfully uninstalled mlxtend-0.14.0\n",
            "Successfully installed mlxtend-0.18.0\n"
          ],
          "name": "stdout"
        }
      ]
    },
    {
      "cell_type": "code",
      "metadata": {
        "id": "MyHQ4xXSnizF"
      },
      "source": [
        "import pandas as pd \r\n",
        "import numpy as np\r\n",
        "import tensorflow as tf\r\n",
        "import tensorflow_hub as hub\r\n",
        "import matplotlib.pyplot as plt\r\n",
        "\r\n",
        "import os \r\n",
        "import shutil\r\n",
        "\r\n",
        "from zipfile import ZipFile\r\n",
        "from os.path import join\r\n",
        "from os import listdir\r\n",
        "from google.colab import drive\r\n",
        "\r\n",
        "import math \r\n",
        "import random "
      ],
      "execution_count": 3,
      "outputs": []
    },
    {
      "cell_type": "code",
      "metadata": {
        "id": "7GkriDZ3oCzi",
        "colab": {
          "base_uri": "https://localhost:8080/"
        },
        "outputId": "bbd6db9a-3c6d-4a69-9c87-01508a684b43"
      },
      "source": [
        "drive.mount('drive', force_remount=True)"
      ],
      "execution_count": 4,
      "outputs": [
        {
          "output_type": "stream",
          "text": [
            "Mounted at drive\n"
          ],
          "name": "stdout"
        }
      ]
    },
    {
      "cell_type": "markdown",
      "metadata": {
        "id": "Q2fJrG7_nrHQ"
      },
      "source": [
        "# File Structuring"
      ]
    },
    {
      "cell_type": "code",
      "metadata": {
        "id": "BAbv-ETXoxcN",
        "colab": {
          "base_uri": "https://localhost:8080/"
        },
        "outputId": "9a6395c4-7ba8-4989-ab05-2792b66687a5"
      },
      "source": [
        "!wget https://data.mendeley.com/public-files/datasets/tywbtsjrjv/files/d5652a28-c1d8-4b76-97f3-72fb80f94efc/file_downloaded"
      ],
      "execution_count": 5,
      "outputs": [
        {
          "output_type": "stream",
          "text": [
            "--2021-03-11 12:50:25--  https://data.mendeley.com/public-files/datasets/tywbtsjrjv/files/d5652a28-c1d8-4b76-97f3-72fb80f94efc/file_downloaded\n",
            "Resolving data.mendeley.com (data.mendeley.com)... 162.159.130.86, 162.159.133.86\n",
            "Connecting to data.mendeley.com (data.mendeley.com)|162.159.130.86|:443... connected.\n",
            "HTTP request sent, awaiting response... 302 Found\n",
            "Location: https://md-datasets-public-files-prod.s3.eu-west-1.amazonaws.com/d29ed9b2-8a5d-4663-8a82-c9174f2c7066 [following]\n",
            "--2021-03-11 12:50:26--  https://md-datasets-public-files-prod.s3.eu-west-1.amazonaws.com/d29ed9b2-8a5d-4663-8a82-c9174f2c7066\n",
            "Resolving md-datasets-public-files-prod.s3.eu-west-1.amazonaws.com (md-datasets-public-files-prod.s3.eu-west-1.amazonaws.com)... 52.218.60.112\n",
            "Connecting to md-datasets-public-files-prod.s3.eu-west-1.amazonaws.com (md-datasets-public-files-prod.s3.eu-west-1.amazonaws.com)|52.218.60.112|:443... connected.\n",
            "HTTP request sent, awaiting response... 200 OK\n",
            "Length: 868032562 (828M) [application/zip]\n",
            "Saving to: ‘file_downloaded’\n",
            "\n",
            "file_downloaded     100%[===================>] 827.82M  38.0MB/s    in 22s     \n",
            "\n",
            "2021-03-11 12:50:48 (37.1 MB/s) - ‘file_downloaded’ saved [868032562/868032562]\n",
            "\n"
          ],
          "name": "stdout"
        }
      ]
    },
    {
      "cell_type": "code",
      "metadata": {
        "id": "kFKEMmxvsjWF"
      },
      "source": [
        "os.rename('file_downloaded', \"plantvillage_ds.zip\")\r\n",
        "with ZipFile('plantvillage_ds.zip', 'r') as file:\r\n",
        "  file.extractall()\r\n",
        "\r\n",
        "os.remove('plantvillage_ds.zip')\r\n",
        "os.rename('/content/Plant_leave_diseases_dataset_without_augmentation', \"/content/dataset\")"
      ],
      "execution_count": 6,
      "outputs": []
    },
    {
      "cell_type": "code",
      "metadata": {
        "id": "AVd7jKKftHsi"
      },
      "source": [
        "# Plants to be deleted \r\n",
        "def delete_plants(dataset_plant):\r\n",
        "  dataset_dir = \"/content/dataset\"\r\n",
        "  for plant in os.listdir(dataset_dir):\r\n",
        "\r\n",
        "    # Skip the folder 'Background_without_leaves\" since it \r\n",
        "    # will serve as the non-informative class\r\n",
        "\r\n",
        "    if plant == \"Background_without_leaves\":\r\n",
        "      continue\r\n",
        "    \r\n",
        "    elif not dataset_plant in plant.lower():\r\n",
        "      \r\n",
        "      shutil.rmtree(join(dataset_dir, plant))\r\n",
        "  return"
      ],
      "execution_count": 7,
      "outputs": []
    },
    {
      "cell_type": "code",
      "metadata": {
        "id": "27SlQucNHsFe"
      },
      "source": [
        "def train_val_test_split(source_dir, destination_dir, data_split=[0.6, 0.2, 0.2]):\r\n",
        "\r\n",
        "  \"\"\"Copies the file structure of a directory and splits it for \r\n",
        "  train, test, validation.\r\n",
        "\r\n",
        "  source_dir/\r\n",
        "    ├─ folder1/\r\n",
        "    ├─ folder2/\r\n",
        "    ├─ .../\r\n",
        "\r\n",
        "  destination_dir/\r\n",
        "    |\r\n",
        "    ├─ train/\r\n",
        "    │   ├─ folder1/\r\n",
        "    │   ├─ folder2/\r\n",
        "    │   ├─ .../\r\n",
        "    │\r\n",
        "    ├─ test/\r\n",
        "    │   ├─ folder1/\r\n",
        "    │   ├─ folder2/\r\n",
        "    │   ├─ .../\r\n",
        "    |\r\n",
        "    ├─ val/\r\n",
        "    │   ├─ folder1/\r\n",
        "    │   ├─ folder2/\r\n",
        "    │   ├─ .../\r\n",
        "\r\n",
        "  \r\n",
        "  \"\"\"\r\n",
        "  assert float(data_split[0] + data_split[1] + data_split[2]) == 1.0, \"Data Split must be equal to 1\"\r\n",
        "  if not os.path.isdir(destination_dir):\r\n",
        "    os.mkdir(destination_dir)\r\n",
        "  \r\n",
        "  dirs = [\"train\", \"val\", \"test\"]\r\n",
        "\r\n",
        "  for dir in dirs:\r\n",
        "    try:\r\n",
        "      os.mkdir(os.path.join(destination_dir, dir))\r\n",
        "    except Exception as e:\r\n",
        "      print(e)\r\n",
        "\r\n",
        "    for plant_type in os.listdir(source_dir):\r\n",
        "      try:\r\n",
        "        os.mkdir(os.path.join(destination_dir, dir, plant_type))\r\n",
        "      except Exception as e:\r\n",
        "        print(e)\r\n",
        "\r\n",
        "  \r\n",
        "  def split(source, destination, total):\r\n",
        "    counter = 0\r\n",
        "    while not counter == total:\r\n",
        "      random_image = random.choice(os.listdir(source))\r\n",
        "      image_source = os.path.join(source, random_image)\r\n",
        "     \r\n",
        "      image_destination = os.path.join(destination, random_image)\r\n",
        "\r\n",
        "      shutil.move(image_source, image_destination)\r\n",
        "\r\n",
        "      counter += 1\r\n",
        "    return\r\n",
        "\r\n",
        "  for folder in os.listdir(source_dir):\r\n",
        "    \r\n",
        "  \r\n",
        "    total_images = len(os.listdir(os.path.join(source_dir, folder)))\r\n",
        "    train_total = math.floor(total_images * data_split[0])\r\n",
        "    test_total = math.floor(total_images * data_split[1])\r\n",
        "    val_total = math.floor(total_images * data_split[2])\r\n",
        "\r\n",
        "    split(join(source_dir, folder), os.path.join(destination_dir, \"train\", folder), train_total)\r\n",
        "    split(join(source_dir, folder), os.path.join(destination_dir, \"test\", folder), test_total)\r\n",
        "    split(join(source_dir, folder), os.path.join(destination_dir, \"val\", folder), val_total)\r\n",
        "\r\n",
        "    print(f\"Successfully splitted data from {os.path.join(source_dir, folder)} {os.path.join(destination_dir, folder)}\")\r\n",
        "    print(f\"\\t - Train Images: {train_total}\")\r\n",
        "    print(f\"\\t - Val Images: {val_total}\")\r\n",
        "    print(f\"\\t - Test Images: {train_total}\")\r\n",
        "    \r\n",
        "  return \r\n",
        "\r\n"
      ],
      "execution_count": 8,
      "outputs": []
    },
    {
      "cell_type": "code",
      "metadata": {
        "id": "8U4OcVvBaG06"
      },
      "source": [
        "def normalize_dataset(dataset_path, normalize_path, plant_name):\r\n",
        "  \"\"\" Normalizes the number of images \r\n",
        "      from a certain class of a dataset  \"\"\"\r\n",
        "  plant_count = []\r\n",
        "  print(f'Before Normalization: {len(os.listdir(normalize_path))}\\n')\r\n",
        "\r\n",
        "  for folder in os.listdir(dataset_path):\r\n",
        "    if plant_name in folder.lower():\r\n",
        "      plant_folder = os.path.join(dataset_path, plant_name)\r\n",
        "      plant_images_total = len(os.listdir(os.path.join(dataset_path, folder)))\r\n",
        "\r\n",
        "      plant_count.append(plant_images_total)\r\n",
        "      print(f'{folder} total: {plant_images_total}')\r\n",
        "\r\n",
        "  average = math.floor(np.sum(plant_count) / len(plant_count))\r\n",
        "  print(f'\\nAverage: {average}')\r\n",
        "  \r\n",
        "  if len(os.listdir(normalize_path)) < average:\r\n",
        "    return\r\n",
        "  \r\n",
        "  while len(os.listdir(normalize_path)) != average:\r\n",
        "    random_image = random.choice(os.listdir(normalize_path))\r\n",
        "    random_image_path = os.path.join(normalize_path, random_image)\r\n",
        "    os.remove(random_image_path)\r\n",
        "  \r\n",
        "  print(f'After Normalization: {len(os.listdir(normalize_path))}')\r\n",
        "  return \r\n",
        "\r\n",
        "    "
      ],
      "execution_count": 9,
      "outputs": []
    },
    {
      "cell_type": "markdown",
      "metadata": {
        "id": "v6Rph3Nlvxp3"
      },
      "source": [
        "# Model Training"
      ]
    },
    {
      "cell_type": "code",
      "metadata": {
        "id": "sAwaU30PN6NR"
      },
      "source": [
        "plant = 'strawberry'"
      ],
      "execution_count": 10,
      "outputs": []
    },
    {
      "cell_type": "code",
      "metadata": {
        "id": "wDiRrCv1uaVH"
      },
      "source": [
        "delete_plants(plant)\r\n"
      ],
      "execution_count": 11,
      "outputs": []
    },
    {
      "cell_type": "code",
      "metadata": {
        "id": "cB3x7E7pb7QQ",
        "colab": {
          "base_uri": "https://localhost:8080/"
        },
        "outputId": "cc6b713d-feb4-4151-88ec-f6ea24c41160"
      },
      "source": [
        "normalize_dataset('/content/dataset', '/content/dataset/Background_without_leaves', plant)"
      ],
      "execution_count": 12,
      "outputs": [
        {
          "output_type": "stream",
          "text": [
            "Before Normalization: 1143\n",
            "\n",
            "Strawberry___Leaf_scorch total: 1109\n",
            "Strawberry___healthy total: 456\n",
            "\n",
            "Average: 782\n",
            "After Normalization: 782\n"
          ],
          "name": "stdout"
        }
      ]
    },
    {
      "cell_type": "code",
      "metadata": {
        "id": "M07rCFsNJpJ3",
        "colab": {
          "base_uri": "https://localhost:8080/"
        },
        "outputId": "778e5849-af3e-4ad9-8f8d-dbc0759d3bea"
      },
      "source": [
        "train_val_test_split(\"/content/dataset\", \"/content/split\")"
      ],
      "execution_count": 13,
      "outputs": [
        {
          "output_type": "stream",
          "text": [
            "Successfully splitted data from /content/dataset/Strawberry___Leaf_scorch /content/split/Strawberry___Leaf_scorch\n",
            "\t - Train Images: 665\n",
            "\t - Val Images: 221\n",
            "\t - Test Images: 665\n",
            "Successfully splitted data from /content/dataset/Strawberry___healthy /content/split/Strawberry___healthy\n",
            "\t - Train Images: 273\n",
            "\t - Val Images: 91\n",
            "\t - Test Images: 273\n",
            "Successfully splitted data from /content/dataset/Background_without_leaves /content/split/Background_without_leaves\n",
            "\t - Train Images: 469\n",
            "\t - Val Images: 156\n",
            "\t - Test Images: 469\n"
          ],
          "name": "stdout"
        }
      ]
    },
    {
      "cell_type": "code",
      "metadata": {
        "id": "zncp5Hf1xPei"
      },
      "source": [
        "from tensorflow.keras.models import load_model, save_model, Sequential\r\n",
        "from tensorflow.keras.preprocessing.image import ImageDataGenerator\r\n",
        "from tensorflow.keras.layers import Dense, Dropout, Flatten, GlobalAveragePooling2D\r\n",
        "from tensorflow.keras.optimizers import Adam\r\n",
        "from tensorflow.keras.callbacks import EarlyStopping\r\n",
        "\r\n",
        "# Evaluation\r\n",
        "\r\n",
        "import tensorflow_addons as tfa\r\n",
        "from tensorflow_addons.metrics import F1Score"
      ],
      "execution_count": 14,
      "outputs": []
    },
    {
      "cell_type": "code",
      "metadata": {
        "id": "SYV7eQ38y6py"
      },
      "source": [
        "# We will fine-tune EfficientLite-Lite4\r\n",
        "img_size = 380\r\n",
        "batch_size = 64\r\n",
        "\r\n",
        "train_dir = \"/content/split/train\"\r\n",
        "val_dir = \"/content/split/val\"\r\n",
        "test_dir = \"/content/split/test\""
      ],
      "execution_count": 15,
      "outputs": []
    },
    {
      "cell_type": "code",
      "metadata": {
        "id": "Cwvk_stk1yJs",
        "colab": {
          "base_uri": "https://localhost:8080/"
        },
        "outputId": "38fa66b9-0bf7-4565-eb70-c5668c02d38a"
      },
      "source": [
        "# Data Split\r\n",
        "# Training Data - 60%\r\n",
        "# Validation Data - 20%\r\n",
        "# Test Data - 20%\r\n",
        "\r\n",
        "datagen = ImageDataGenerator(\r\n",
        "    horizontal_flip = True,\r\n",
        "    vertical_flip = True,\r\n",
        "    brightness_range = [0.7, 1.3],\r\n",
        "    zoom_range = [0.9, 1.1],\r\n",
        "    rescale = 1/255,\r\n",
        ")\r\n",
        "\r\n",
        "train_gen = datagen.flow_from_directory(\r\n",
        "    train_dir, \r\n",
        "    target_size = (img_size, img_size),\r\n",
        "    color_mode = 'rgb',\r\n",
        "    batch_size = batch_size,\r\n",
        "    shuffle = True,\r\n",
        ")\r\n",
        "\r\n",
        "test_gen = datagen.flow_from_directory(\r\n",
        "    test_dir, \r\n",
        "    target_size = (img_size, img_size),\r\n",
        "    color_mode = 'rgb',\r\n",
        "    batch_size = batch_size,\r\n",
        "    shuffle = False,\r\n",
        ")\r\n",
        "\r\n",
        "val_gen = datagen.flow_from_directory(\r\n",
        "    val_dir,\r\n",
        "    target_size = (img_size, img_size),\r\n",
        "    color_mode = 'rgb',\r\n",
        "    batch_size = batch_size,\r\n",
        "    shuffle = True,\r\n",
        ")\r\n"
      ],
      "execution_count": 16,
      "outputs": [
        {
          "output_type": "stream",
          "text": [
            "Found 1407 images belonging to 3 classes.\n",
            "Found 468 images belonging to 3 classes.\n",
            "Found 468 images belonging to 3 classes.\n"
          ],
          "name": "stdout"
        }
      ]
    },
    {
      "cell_type": "code",
      "metadata": {
        "id": "Soxb7TDPhfwY"
      },
      "source": [
        "URL = 'https://tfhub.dev/tensorflow/efficientnet/lite4/feature-vector/2'\r\n",
        "pretrained_model = hub.KerasLayer(URL, input_shape = (img_size, img_size,3))"
      ],
      "execution_count": 17,
      "outputs": []
    },
    {
      "cell_type": "code",
      "metadata": {
        "id": "KkzkTMBjhmxN"
      },
      "source": [
        "model = Sequential(name=plant)\r\n",
        "model.add(Flatten())\r\n",
        "model.add(Dense(512, activation = 'relu'))\r\n",
        "model.add(Dropout(.30))\r\n",
        "model.add(Dense(len(train_gen.class_indices), activation = 'softmax'))\r\n",
        "\r\n",
        "training_model = Sequential([\r\n",
        "                             pretrained_model, \r\n",
        "                             model\r\n",
        "])"
      ],
      "execution_count": 18,
      "outputs": []
    },
    {
      "cell_type": "code",
      "metadata": {
        "id": "iUZ7vP9ziKGa",
        "colab": {
          "base_uri": "https://localhost:8080/"
        },
        "outputId": "069d7260-a224-48a6-9cf9-58d598a8e5ea"
      },
      "source": [
        "training_model.summary()"
      ],
      "execution_count": 19,
      "outputs": [
        {
          "output_type": "stream",
          "text": [
            "Model: \"sequential\"\n",
            "_________________________________________________________________\n",
            "Layer (type)                 Output Shape              Param #   \n",
            "=================================================================\n",
            "keras_layer (KerasLayer)     (None, 1280)              11837936  \n",
            "_________________________________________________________________\n",
            "strawberry (Sequential)      (None, 3)                 657411    \n",
            "=================================================================\n",
            "Total params: 12,495,347\n",
            "Trainable params: 657,411\n",
            "Non-trainable params: 11,837,936\n",
            "_________________________________________________________________\n"
          ],
          "name": "stdout"
        }
      ]
    },
    {
      "cell_type": "code",
      "metadata": {
        "id": "EKYmBskQl3vi"
      },
      "source": [
        "f1_score = F1Score(len(train_gen.class_indices))"
      ],
      "execution_count": 20,
      "outputs": []
    },
    {
      "cell_type": "code",
      "metadata": {
        "id": "2VZttTRbiOdm"
      },
      "source": [
        "training_model.compile(optimizer=Adam(), loss=\"categorical_crossentropy\", metrics=['accuracy', f1_score])\r\n",
        "es = EarlyStopping(monitor = 'val_loss', patience =3)"
      ],
      "execution_count": 21,
      "outputs": []
    },
    {
      "cell_type": "code",
      "metadata": {
        "id": "_rQWn7vWi3E2",
        "colab": {
          "base_uri": "https://localhost:8080/"
        },
        "outputId": "048b9add-5b37-4058-e71c-bcb5c0b8a07b"
      },
      "source": [
        "training_history = training_model.fit(train_gen, validation_data= val_gen, epochs = 5, callbacks = es)"
      ],
      "execution_count": 22,
      "outputs": [
        {
          "output_type": "stream",
          "text": [
            "Epoch 1/5\n",
            "22/22 [==============================] - 96s 3s/step - loss: 0.3928 - accuracy: 0.8104 - f1_score: 0.7861 - val_loss: 0.0143 - val_accuracy: 0.9957 - val_f1_score: 0.9953\n",
            "Epoch 2/5\n",
            "22/22 [==============================] - 62s 3s/step - loss: 0.0204 - accuracy: 0.9947 - f1_score: 0.9936 - val_loss: 0.0059 - val_accuracy: 1.0000 - val_f1_score: 1.0000\n",
            "Epoch 3/5\n",
            "22/22 [==============================] - 62s 3s/step - loss: 0.0054 - accuracy: 0.9995 - f1_score: 0.9996 - val_loss: 0.0078 - val_accuracy: 0.9979 - val_f1_score: 0.9982\n",
            "Epoch 4/5\n",
            "22/22 [==============================] - 62s 3s/step - loss: 0.0048 - accuracy: 0.9999 - f1_score: 0.9998 - val_loss: 0.0017 - val_accuracy: 1.0000 - val_f1_score: 1.0000\n",
            "Epoch 5/5\n",
            "22/22 [==============================] - 62s 3s/step - loss: 0.0022 - accuracy: 1.0000 - f1_score: 1.0000 - val_loss: 0.0024 - val_accuracy: 1.0000 - val_f1_score: 1.0000\n"
          ],
          "name": "stdout"
        }
      ]
    },
    {
      "cell_type": "code",
      "metadata": {
        "id": "RKon3IMhoQu4"
      },
      "source": [
        "os.chdir(\"/content/drive/MyDrive/Research/models\")\r\n",
        "model.save(f\"{plant}.h5\")"
      ],
      "execution_count": 23,
      "outputs": []
    },
    {
      "cell_type": "markdown",
      "metadata": {
        "id": "ZQje6bx_kOT-"
      },
      "source": [
        "# Model Training Analytics\r\n",
        "\r\n"
      ]
    },
    {
      "cell_type": "code",
      "metadata": {
        "id": "F3PEfEmHpjO8",
        "colab": {
          "base_uri": "https://localhost:8080/",
          "height": 295
        },
        "outputId": "71236e8f-27ca-4642-9eae-aa96943fd4b0"
      },
      "source": [
        "plt.plot(training_history.history['accuracy'])\r\n",
        "plt.plot(training_history.history['val_accuracy'])\r\n",
        "plt.title(f'{plant.title()} Model Accuracy')\r\n",
        "plt.ylabel('Accuracy')\r\n",
        "plt.xlabel('Epoch')\r\n",
        "plt.legend(['Train','Validation'], loc = 'center left', bbox_to_anchor=(1, 0.5))\r\n",
        "plt.show()\r\n"
      ],
      "execution_count": 24,
      "outputs": [
        {
          "output_type": "display_data",
          "data": {
            "image/png": "[encoded data removed]",
            "text/plain": [
              "<Figure size 432x288 with 1 Axes>"
            ]
          },
          "metadata": {
            "tags": [],
            "needs_background": "light"
          }
        }
      ]
    },
    {
      "cell_type": "code",
      "metadata": {
        "id": "CjekDLDkpUVz",
        "colab": {
          "base_uri": "https://localhost:8080/",
          "height": 295
        },
        "outputId": "2d6a84a2-27be-437f-fba8-49713a50a0cc"
      },
      "source": [
        "\r\n",
        "plt.plot(training_history.history['f1_score'])\r\n",
        "plt.title(f'{plant.title()} Model Training F1_Score')\r\n",
        "plt.ylabel('f1_score')\r\n",
        "plt.xlabel('Epoch')\r\n",
        "plt.legend(train_gen.class_indices.keys(), loc = 'center left', bbox_to_anchor=(1,0.5))\r\n",
        "plt.show()\r\n"
      ],
      "execution_count": 25,
      "outputs": [
        {
          "output_type": "display_data",
          "data": {
            "image/png": "[encoded data removed]",
            "text/plain": [
              "<Figure size 432x288 with 1 Axes>"
            ]
          },
          "metadata": {
            "tags": [],
            "needs_background": "light"
          }
        }
      ]
    },
    {
      "cell_type": "code",
      "metadata": {
        "id": "Jl-B-uEFp1mK",
        "colab": {
          "base_uri": "https://localhost:8080/",
          "height": 295
        },
        "outputId": "f15970a8-a80f-415b-dde8-6581b9da2e6c"
      },
      "source": [
        "plt.plot(training_history.history['val_f1_score'])\r\n",
        "plt.title(f'{plant.title()} Model Validation F1_Score')\r\n",
        "plt.ylabel('f1_score')\r\n",
        "plt.xlabel('Epoch')\r\n",
        "plt.legend(train_gen.class_indices.keys(), loc = 'center left', bbox_to_anchor=(1,0.5))\r\n",
        "plt.show()\r\n"
      ],
      "execution_count": 26,
      "outputs": [
        {
          "output_type": "display_data",
          "data": {
            "image/png": "[encoded data removed]",
            "text/plain": [
              "<Figure size 432x288 with 1 Axes>"
            ]
          },
          "metadata": {
            "tags": [],
            "needs_background": "light"
          }
        }
      ]
    },
    {
      "cell_type": "markdown",
      "metadata": {
        "id": "2kQd0XVMrkIw"
      },
      "source": [
        "# Model Testing Analytics"
      ]
    },
    {
      "cell_type": "code",
      "metadata": {
        "id": "sNAoC49Arx0U"
      },
      "source": [
        "from mlxtend.plotting import plot_confusion_matrix \r\n",
        "from sklearn.metrics import confusion_matrix"
      ],
      "execution_count": 27,
      "outputs": []
    },
    {
      "cell_type": "code",
      "metadata": {
        "id": "O6Zm3yoH-wAR"
      },
      "source": [
        "y_true = test_gen.classes\r\n",
        "y_pred = training_model.predict(test_gen)\r\n",
        "class_names = test_gen.class_indices.keys()"
      ],
      "execution_count": 28,
      "outputs": []
    },
    {
      "cell_type": "code",
      "metadata": {
        "id": "v9UE3k02HF3x"
      },
      "source": [
        "y_pred = np.argmax(y_pred, axis = 1)"
      ],
      "execution_count": 29,
      "outputs": []
    },
    {
      "cell_type": "code",
      "metadata": {
        "id": "eWSE_rij_A_f",
        "colab": {
          "base_uri": "https://localhost:8080/",
          "height": 554
        },
        "outputId": "252f2b67-9c5b-4eaf-e672-f36d66516b2e"
      },
      "source": [
        "cs = confusion_matrix(y_true, y_pred)\r\n",
        "cm = plot_confusion_matrix(conf_mat=cs, figsize =(8,8), class_names=class_names, colorbar=True)"
      ],
      "execution_count": 30,
      "outputs": [
        {
          "output_type": "display_data",
          "data": {
            "image/png": "[encoded data removed]",
            "text/plain": [
              "<Figure size 576x576 with 2 Axes>"
            ]
          },
          "metadata": {
            "tags": [],
            "needs_background": "light"
          }
        }
      ]
    }
  ]
}