{
  "nbformat": 4,
  "nbformat_minor": 0,
  "metadata": {
    "colab": {
      "name": "pepper.ipynb",
      "provenance": [],
      "collapsed_sections": [],
      "toc_visible": true,
      "include_colab_link": true
    },
    "kernelspec": {
      "display_name": "Python 3",
      "name": "python3"
    },
    "accelerator": "GPU"
  },
  "cells": [
    {
      "cell_type": "markdown",
      "metadata": {
        "id": "view-in-github",
        "colab_type": "text"
      },
      "source": [
        "<a href=\"https://colab.research.google.com/github/brymer-meneses/chloroplast/blob/main/machine_learning/model_training/pepper.ipynb\" target=\"_parent\"><img src=\"https://colab.research.google.com/assets/colab-badge.svg\" alt=\"Open In Colab\"/></a>"
      ]
    },
    {
      "cell_type": "markdown",
      "metadata": {
        "id": "PddQCAHZvrzr"
      },
      "source": [
        "# Prerequisites\r\n"
      ]
    },
    {
      "cell_type": "code",
      "metadata": {
        "colab": {
          "base_uri": "https://localhost:8080/"
        },
        "id": "20VyBM9e-S3U",
        "outputId": "ed38176b-aec8-47db-9e55-2e9f574594dc"
      },
      "source": [
        "!pip install tensorflow-addons"
      ],
      "execution_count": 1,
      "outputs": [
        {
          "output_type": "stream",
          "text": [
            "Collecting tensorflow-addons\n",
            "\u001b[?25l  Downloading https://files.pythonhosted.org/packages/74/e3/56d2fe76f0bb7c88ed9b2a6a557e25e83e252aec08f13de34369cd850a0b/tensorflow_addons-0.12.1-cp37-cp37m-manylinux2010_x86_64.whl (703kB)\n",
            "\r\u001b[K     |▌                               | 10kB 20.9MB/s eta 0:00:01\r\u001b[K     |█                               | 20kB 17.3MB/s eta 0:00:01\r\u001b[K     |█▍                              | 30kB 14.6MB/s eta 0:00:01\r\u001b[K     |█▉                              | 40kB 13.4MB/s eta 0:00:01\r\u001b[K     |██▎                             | 51kB 8.8MB/s eta 0:00:01\r\u001b[K     |██▉                             | 61kB 9.4MB/s eta 0:00:01\r\u001b[K     |███▎                            | 71kB 9.5MB/s eta 0:00:01\r\u001b[K     |███▊                            | 81kB 9.7MB/s eta 0:00:01\r\u001b[K     |████▏                           | 92kB 9.8MB/s eta 0:00:01\r\u001b[K     |████▋                           | 102kB 8.3MB/s eta 0:00:01\r\u001b[K     |█████▏                          | 112kB 8.3MB/s eta 0:00:01\r\u001b[K     |█████▋                          | 122kB 8.3MB/s eta 0:00:01\r\u001b[K     |██████                          | 133kB 8.3MB/s eta 0:00:01\r\u001b[K     |██████▌                         | 143kB 8.3MB/s eta 0:00:01\r\u001b[K     |███████                         | 153kB 8.3MB/s eta 0:00:01\r\u001b[K     |███████▌                        | 163kB 8.3MB/s eta 0:00:01\r\u001b[K     |████████                        | 174kB 8.3MB/s eta 0:00:01\r\u001b[K     |████████▍                       | 184kB 8.3MB/s eta 0:00:01\r\u001b[K     |████████▉                       | 194kB 8.3MB/s eta 0:00:01\r\u001b[K     |█████████▎                      | 204kB 8.3MB/s eta 0:00:01\r\u001b[K     |█████████▉                      | 215kB 8.3MB/s eta 0:00:01\r\u001b[K     |██████████▎                     | 225kB 8.3MB/s eta 0:00:01\r\u001b[K     |██████████▊                     | 235kB 8.3MB/s eta 0:00:01\r\u001b[K     |███████████▏                    | 245kB 8.3MB/s eta 0:00:01\r\u001b[K     |███████████▋                    | 256kB 8.3MB/s eta 0:00:01\r\u001b[K     |████████████▏                   | 266kB 8.3MB/s eta 0:00:01\r\u001b[K     |████████████▋                   | 276kB 8.3MB/s eta 0:00:01\r\u001b[K     |█████████████                   | 286kB 8.3MB/s eta 0:00:01\r\u001b[K     |█████████████▌                  | 296kB 8.3MB/s eta 0:00:01\r\u001b[K     |██████████████                  | 307kB 8.3MB/s eta 0:00:01\r\u001b[K     |██████████████▍                 | 317kB 8.3MB/s eta 0:00:01\r\u001b[K     |███████████████                 | 327kB 8.3MB/s eta 0:00:01\r\u001b[K     |███████████████▍                | 337kB 8.3MB/s eta 0:00:01\r\u001b[K     |███████████████▉                | 348kB 8.3MB/s eta 0:00:01\r\u001b[K     |████████████████▎               | 358kB 8.3MB/s eta 0:00:01\r\u001b[K     |████████████████▊               | 368kB 8.3MB/s eta 0:00:01\r\u001b[K     |█████████████████▎              | 378kB 8.3MB/s eta 0:00:01\r\u001b[K     |█████████████████▊              | 389kB 8.3MB/s eta 0:00:01\r\u001b[K     |██████████████████▏             | 399kB 8.3MB/s eta 0:00:01\r\u001b[K     |██████████████████▋             | 409kB 8.3MB/s eta 0:00:01\r\u001b[K     |███████████████████             | 419kB 8.3MB/s eta 0:00:01\r\u001b[K     |███████████████████▋            | 430kB 8.3MB/s eta 0:00:01\r\u001b[K     |████████████████████            | 440kB 8.3MB/s eta 0:00:01\r\u001b[K     |████████████████████▌           | 450kB 8.3MB/s eta 0:00:01\r\u001b[K     |█████████████████████           | 460kB 8.3MB/s eta 0:00:01\r\u001b[K     |█████████████████████▍          | 471kB 8.3MB/s eta 0:00:01\r\u001b[K     |██████████████████████          | 481kB 8.3MB/s eta 0:00:01\r\u001b[K     |██████████████████████▍         | 491kB 8.3MB/s eta 0:00:01\r\u001b[K     |██████████████████████▉         | 501kB 8.3MB/s eta 0:00:01\r\u001b[K     |███████████████████████▎        | 512kB 8.3MB/s eta 0:00:01\r\u001b[K     |███████████████████████▊        | 522kB 8.3MB/s eta 0:00:01\r\u001b[K     |████████████████████████▎       | 532kB 8.3MB/s eta 0:00:01\r\u001b[K     |████████████████████████▊       | 542kB 8.3MB/s eta 0:00:01\r\u001b[K     |█████████████████████████▏      | 552kB 8.3MB/s eta 0:00:01\r\u001b[K     |█████████████████████████▋      | 563kB 8.3MB/s eta 0:00:01\r\u001b[K     |██████████████████████████      | 573kB 8.3MB/s eta 0:00:01\r\u001b[K     |██████████████████████████▋     | 583kB 8.3MB/s eta 0:00:01\r\u001b[K     |███████████████████████████     | 593kB 8.3MB/s eta 0:00:01\r\u001b[K     |███████████████████████████▌    | 604kB 8.3MB/s eta 0:00:01\r\u001b[K     |████████████████████████████    | 614kB 8.3MB/s eta 0:00:01\r\u001b[K     |████████████████████████████▍   | 624kB 8.3MB/s eta 0:00:01\r\u001b[K     |████████████████████████████▉   | 634kB 8.3MB/s eta 0:00:01\r\u001b[K     |█████████████████████████████▍  | 645kB 8.3MB/s eta 0:00:01\r\u001b[K     |█████████████████████████████▉  | 655kB 8.3MB/s eta 0:00:01\r\u001b[K     |██████████████████████████████▎ | 665kB 8.3MB/s eta 0:00:01\r\u001b[K     |██████████████████████████████▊ | 675kB 8.3MB/s eta 0:00:01\r\u001b[K     |███████████████████████████████▏| 686kB 8.3MB/s eta 0:00:01\r\u001b[K     |███████████████████████████████▊| 696kB 8.3MB/s eta 0:00:01\r\u001b[K     |████████████████████████████████| 706kB 8.3MB/s \n",
            "\u001b[?25hRequirement already satisfied: typeguard>=2.7 in /usr/local/lib/python3.7/dist-packages (from tensorflow-addons) (2.7.1)\n",
            "Installing collected packages: tensorflow-addons\n",
            "Successfully installed tensorflow-addons-0.12.1\n"
          ],
          "name": "stdout"
        }
      ]
    },
    {
      "cell_type": "code",
      "metadata": {
        "colab": {
          "base_uri": "https://localhost:8080/"
        },
        "id": "Bc7jW_C8HgVy",
        "outputId": "17ee917b-bd1d-4a18-8e4f-1794bf7076eb"
      },
      "source": [
        "!pip install mlxtend --upgrade --no-deps"
      ],
      "execution_count": 2,
      "outputs": [
        {
          "output_type": "stream",
          "text": [
            "Collecting mlxtend\n",
            "\u001b[?25l  Downloading https://files.pythonhosted.org/packages/86/30/781c0b962a70848db83339567ecab656638c62f05adb064cb33c0ae49244/mlxtend-0.18.0-py2.py3-none-any.whl (1.3MB)\n",
            "\u001b[K     |████████████████████████████████| 1.4MB 7.2MB/s \n",
            "\u001b[?25hInstalling collected packages: mlxtend\n",
            "  Found existing installation: mlxtend 0.14.0\n",
            "    Uninstalling mlxtend-0.14.0:\n",
            "      Successfully uninstalled mlxtend-0.14.0\n",
            "Successfully installed mlxtend-0.18.0\n"
          ],
          "name": "stdout"
        }
      ]
    },
    {
      "cell_type": "code",
      "metadata": {
        "id": "MyHQ4xXSnizF"
      },
      "source": [
        "import pandas as pd \r\n",
        "import numpy as np\r\n",
        "import tensorflow as tf\r\n",
        "import tensorflow_hub as hub\r\n",
        "import matplotlib.pyplot as plt\r\n",
        "\r\n",
        "import os \r\n",
        "import shutil\r\n",
        "\r\n",
        "from zipfile import ZipFile\r\n",
        "from os.path import join\r\n",
        "from os import listdir\r\n",
        "from google.colab import drive\r\n",
        "\r\n",
        "import math \r\n",
        "import random "
      ],
      "execution_count": 3,
      "outputs": []
    },
    {
      "cell_type": "code",
      "metadata": {
        "id": "7GkriDZ3oCzi",
        "colab": {
          "base_uri": "https://localhost:8080/"
        },
        "outputId": "f400edf6-a5ac-45c3-dbed-b94047fd3ac2"
      },
      "source": [
        "drive.mount('drive', force_remount=True)"
      ],
      "execution_count": 4,
      "outputs": [
        {
          "output_type": "stream",
          "text": [
            "Mounted at drive\n"
          ],
          "name": "stdout"
        }
      ]
    },
    {
      "cell_type": "markdown",
      "metadata": {
        "id": "Q2fJrG7_nrHQ"
      },
      "source": [
        "# File Structuring"
      ]
    },
    {
      "cell_type": "code",
      "metadata": {
        "id": "BAbv-ETXoxcN",
        "colab": {
          "base_uri": "https://localhost:8080/"
        },
        "outputId": "bc93540f-3f2d-4959-f897-c85f6fbf88e1"
      },
      "source": [
        "!wget https://data.mendeley.com/public-files/datasets/tywbtsjrjv/files/d5652a28-c1d8-4b76-97f3-72fb80f94efc/file_downloaded"
      ],
      "execution_count": 5,
      "outputs": [
        {
          "output_type": "stream",
          "text": [
            "--2021-03-11 12:33:16--  https://data.mendeley.com/public-files/datasets/tywbtsjrjv/files/d5652a28-c1d8-4b76-97f3-72fb80f94efc/file_downloaded\n",
            "Resolving data.mendeley.com (data.mendeley.com)... 162.159.133.86, 162.159.130.86\n",
            "Connecting to data.mendeley.com (data.mendeley.com)|162.159.133.86|:443... connected.\n",
            "HTTP request sent, awaiting response... 302 Found\n",
            "Location: https://md-datasets-public-files-prod.s3.eu-west-1.amazonaws.com/d29ed9b2-8a5d-4663-8a82-c9174f2c7066 [following]\n",
            "--2021-03-11 12:33:17--  https://md-datasets-public-files-prod.s3.eu-west-1.amazonaws.com/d29ed9b2-8a5d-4663-8a82-c9174f2c7066\n",
            "Resolving md-datasets-public-files-prod.s3.eu-west-1.amazonaws.com (md-datasets-public-files-prod.s3.eu-west-1.amazonaws.com)... 52.218.24.216\n",
            "Connecting to md-datasets-public-files-prod.s3.eu-west-1.amazonaws.com (md-datasets-public-files-prod.s3.eu-west-1.amazonaws.com)|52.218.24.216|:443... connected.\n",
            "HTTP request sent, awaiting response... 200 OK\n",
            "Length: 868032562 (828M) [application/zip]\n",
            "Saving to: ‘file_downloaded’\n",
            "\n",
            "file_downloaded     100%[===================>] 827.82M  21.1MB/s    in 39s     \n",
            "\n",
            "2021-03-11 12:33:57 (21.0 MB/s) - ‘file_downloaded’ saved [868032562/868032562]\n",
            "\n"
          ],
          "name": "stdout"
        }
      ]
    },
    {
      "cell_type": "code",
      "metadata": {
        "id": "kFKEMmxvsjWF"
      },
      "source": [
        "os.rename('file_downloaded', \"plantvillage_ds.zip\")\r\n",
        "with ZipFile('plantvillage_ds.zip', 'r') as file:\r\n",
        "  file.extractall()\r\n",
        "\r\n",
        "os.remove('plantvillage_ds.zip')\r\n",
        "os.rename('/content/Plant_leave_diseases_dataset_without_augmentation', \"/content/dataset\")"
      ],
      "execution_count": 6,
      "outputs": []
    },
    {
      "cell_type": "code",
      "metadata": {
        "id": "AVd7jKKftHsi"
      },
      "source": [
        "# Plants to be deleted \r\n",
        "def delete_plants(dataset_plant):\r\n",
        "  dataset_dir = \"/content/dataset\"\r\n",
        "  for plant in os.listdir(dataset_dir):\r\n",
        "\r\n",
        "    # Skip the folder 'Background_without_leaves\" since it \r\n",
        "    # will serve as the non-informative class\r\n",
        "\r\n",
        "    if plant == \"Background_without_leaves\":\r\n",
        "      continue\r\n",
        "    \r\n",
        "    elif not dataset_plant in plant.lower():\r\n",
        "      \r\n",
        "      shutil.rmtree(join(dataset_dir, plant))\r\n",
        "  return"
      ],
      "execution_count": 7,
      "outputs": []
    },
    {
      "cell_type": "code",
      "metadata": {
        "id": "27SlQucNHsFe"
      },
      "source": [
        "def train_val_test_split(source_dir, destination_dir, data_split=[0.6, 0.2, 0.2]):\r\n",
        "\r\n",
        "  \"\"\"Copies the file structure of a directory and splits it for \r\n",
        "  train, test, validation.\r\n",
        "\r\n",
        "  source_dir/\r\n",
        "    ├─ folder1/\r\n",
        "    ├─ folder2/\r\n",
        "    ├─ .../\r\n",
        "\r\n",
        "  destination_dir/\r\n",
        "    |\r\n",
        "    ├─ train/\r\n",
        "    │   ├─ folder1/\r\n",
        "    │   ├─ folder2/\r\n",
        "    │   ├─ .../\r\n",
        "    │\r\n",
        "    ├─ test/\r\n",
        "    │   ├─ folder1/\r\n",
        "    │   ├─ folder2/\r\n",
        "    │   ├─ .../\r\n",
        "    |\r\n",
        "    ├─ val/\r\n",
        "    │   ├─ folder1/\r\n",
        "    │   ├─ folder2/\r\n",
        "    │   ├─ .../\r\n",
        "\r\n",
        "  \r\n",
        "  \"\"\"\r\n",
        "  assert float(data_split[0] + data_split[1] + data_split[2]) == 1.0, \"Data Split must be equal to 1\"\r\n",
        "  if not os.path.isdir(destination_dir):\r\n",
        "    os.mkdir(destination_dir)\r\n",
        "  \r\n",
        "  dirs = [\"train\", \"val\", \"test\"]\r\n",
        "\r\n",
        "  for dir in dirs:\r\n",
        "    try:\r\n",
        "      os.mkdir(os.path.join(destination_dir, dir))\r\n",
        "    except Exception as e:\r\n",
        "      print(e)\r\n",
        "\r\n",
        "    for plant_type in os.listdir(source_dir):\r\n",
        "      try:\r\n",
        "        os.mkdir(os.path.join(destination_dir, dir, plant_type))\r\n",
        "      except Exception as e:\r\n",
        "        print(e)\r\n",
        "\r\n",
        "  \r\n",
        "  def split(source, destination, total):\r\n",
        "    counter = 0\r\n",
        "    while not counter == total:\r\n",
        "      random_image = random.choice(os.listdir(source))\r\n",
        "      image_source = os.path.join(source, random_image)\r\n",
        "     \r\n",
        "      image_destination = os.path.join(destination, random_image)\r\n",
        "\r\n",
        "      shutil.move(image_source, image_destination)\r\n",
        "\r\n",
        "      counter += 1\r\n",
        "    return\r\n",
        "\r\n",
        "  for folder in os.listdir(source_dir):\r\n",
        "    \r\n",
        "  \r\n",
        "    total_images = len(os.listdir(os.path.join(source_dir, folder)))\r\n",
        "    train_total = math.floor(total_images * data_split[0])\r\n",
        "    test_total = math.floor(total_images * data_split[1])\r\n",
        "    val_total = math.floor(total_images * data_split[2])\r\n",
        "\r\n",
        "    split(join(source_dir, folder), os.path.join(destination_dir, \"train\", folder), train_total)\r\n",
        "    split(join(source_dir, folder), os.path.join(destination_dir, \"test\", folder), test_total)\r\n",
        "    split(join(source_dir, folder), os.path.join(destination_dir, \"val\", folder), val_total)\r\n",
        "\r\n",
        "    print(f\"Successfully splitted data from {os.path.join(source_dir, folder)} {os.path.join(destination_dir, folder)}\")\r\n",
        "    print(f\"\\t - Train Images: {train_total}\")\r\n",
        "    print(f\"\\t - Val Images: {val_total}\")\r\n",
        "    print(f\"\\t - Test Images: {train_total}\")\r\n",
        "    \r\n",
        "  return \r\n",
        "\r\n"
      ],
      "execution_count": 8,
      "outputs": []
    },
    {
      "cell_type": "code",
      "metadata": {
        "id": "8U4OcVvBaG06"
      },
      "source": [
        "def normalize_dataset(dataset_path, normalize_path, plant_name):\r\n",
        "  \"\"\" Normalizes the number of images \r\n",
        "      from a certain class of a dataset  \"\"\"\r\n",
        "  plant_count = []\r\n",
        "  print(f'Before Normalization: {len(os.listdir(normalize_path))}\\n')\r\n",
        "\r\n",
        "  for folder in os.listdir(dataset_path):\r\n",
        "    if plant_name in folder.lower():\r\n",
        "      plant_folder = os.path.join(dataset_path, plant_name)\r\n",
        "      plant_images_total = len(os.listdir(os.path.join(dataset_path, folder)))\r\n",
        "\r\n",
        "      plant_count.append(plant_images_total)\r\n",
        "      print(f'{folder} total: {plant_images_total}')\r\n",
        "\r\n",
        "  average = math.floor(np.sum(plant_count) / len(plant_count))\r\n",
        "  print(f'\\nAverage: {average}')\r\n",
        "  \r\n",
        "  if len(os.listdir(normalize_path)) < average:\r\n",
        "    return\r\n",
        "  \r\n",
        "  while len(os.listdir(normalize_path)) != average:\r\n",
        "    random_image = random.choice(os.listdir(normalize_path))\r\n",
        "    random_image_path = os.path.join(normalize_path, random_image)\r\n",
        "    os.remove(random_image_path)\r\n",
        "  \r\n",
        "  print(f'After Normalization: {len(os.listdir(normalize_path))}')\r\n",
        "  return \r\n",
        "\r\n",
        "    "
      ],
      "execution_count": 9,
      "outputs": []
    },
    {
      "cell_type": "markdown",
      "metadata": {
        "id": "v6Rph3Nlvxp3"
      },
      "source": [
        "# Model Training"
      ]
    },
    {
      "cell_type": "code",
      "metadata": {
        "id": "sAwaU30PN6NR"
      },
      "source": [
        "plant = 'pepper'"
      ],
      "execution_count": 10,
      "outputs": []
    },
    {
      "cell_type": "code",
      "metadata": {
        "id": "wDiRrCv1uaVH"
      },
      "source": [
        "delete_plants(plant)\r\n"
      ],
      "execution_count": 11,
      "outputs": []
    },
    {
      "cell_type": "code",
      "metadata": {
        "id": "cB3x7E7pb7QQ",
        "colab": {
          "base_uri": "https://localhost:8080/"
        },
        "outputId": "1fe4a932-b633-4238-dc46-1c21d44622c6"
      },
      "source": [
        "normalize_dataset('/content/dataset', '/content/dataset/Background_without_leaves', plant)"
      ],
      "execution_count": 12,
      "outputs": [
        {
          "output_type": "stream",
          "text": [
            "Before Normalization: 1143\n",
            "\n",
            "Pepper,_bell___Bacterial_spot total: 997\n",
            "Pepper,_bell___healthy total: 1478\n",
            "\n",
            "Average: 1237\n"
          ],
          "name": "stdout"
        }
      ]
    },
    {
      "cell_type": "code",
      "metadata": {
        "id": "M07rCFsNJpJ3",
        "colab": {
          "base_uri": "https://localhost:8080/"
        },
        "outputId": "08c059ea-54da-4785-c61d-cd37f23f73de"
      },
      "source": [
        "train_val_test_split(\"/content/dataset\", \"/content/split\")"
      ],
      "execution_count": 13,
      "outputs": [
        {
          "output_type": "stream",
          "text": [
            "Successfully splitted data from /content/dataset/Background_without_leaves /content/split/Background_without_leaves\n",
            "\t - Train Images: 685\n",
            "\t - Val Images: 228\n",
            "\t - Test Images: 685\n",
            "Successfully splitted data from /content/dataset/Pepper,_bell___Bacterial_spot /content/split/Pepper,_bell___Bacterial_spot\n",
            "\t - Train Images: 598\n",
            "\t - Val Images: 199\n",
            "\t - Test Images: 598\n",
            "Successfully splitted data from /content/dataset/Pepper,_bell___healthy /content/split/Pepper,_bell___healthy\n",
            "\t - Train Images: 886\n",
            "\t - Val Images: 295\n",
            "\t - Test Images: 886\n"
          ],
          "name": "stdout"
        }
      ]
    },
    {
      "cell_type": "code",
      "metadata": {
        "id": "zncp5Hf1xPei"
      },
      "source": [
        "from tensorflow.keras.models import load_model, save_model, Sequential\r\n",
        "from tensorflow.keras.preprocessing.image import ImageDataGenerator\r\n",
        "from tensorflow.keras.layers import Dense, Dropout, Flatten, GlobalAveragePooling2D\r\n",
        "from tensorflow.keras.optimizers import Adam\r\n",
        "from tensorflow.keras.callbacks import EarlyStopping\r\n",
        "\r\n",
        "# Evaluation\r\n",
        "\r\n",
        "import tensorflow_addons as tfa\r\n",
        "from tensorflow_addons.metrics import F1Score"
      ],
      "execution_count": 14,
      "outputs": []
    },
    {
      "cell_type": "code",
      "metadata": {
        "id": "SYV7eQ38y6py"
      },
      "source": [
        "# We will fine-tune EfficientLite-Lite4\r\n",
        "img_size = 380\r\n",
        "batch_size = 64\r\n",
        "\r\n",
        "train_dir = \"/content/split/train\"\r\n",
        "val_dir = \"/content/split/val\"\r\n",
        "test_dir = \"/content/split/test\""
      ],
      "execution_count": 15,
      "outputs": []
    },
    {
      "cell_type": "code",
      "metadata": {
        "id": "Cwvk_stk1yJs",
        "colab": {
          "base_uri": "https://localhost:8080/"
        },
        "outputId": "95d27d1c-7faf-4e98-efe7-eabfc8d9da80"
      },
      "source": [
        "# Data Split\r\n",
        "# Training Data - 60%\r\n",
        "# Validation Data - 20%\r\n",
        "# Test Data - 20%\r\n",
        "\r\n",
        "datagen = ImageDataGenerator(\r\n",
        "    horizontal_flip = True,\r\n",
        "    vertical_flip = True,\r\n",
        "    brightness_range = [0.7, 1.3],\r\n",
        "    zoom_range = [0.9, 1.1],\r\n",
        "    rescale = 1/255,\r\n",
        ")\r\n",
        "\r\n",
        "train_gen = datagen.flow_from_directory(\r\n",
        "    train_dir, \r\n",
        "    target_size = (img_size, img_size),\r\n",
        "    color_mode = 'rgb',\r\n",
        "    batch_size = batch_size,\r\n",
        "    shuffle = True,\r\n",
        ")\r\n",
        "\r\n",
        "test_gen = datagen.flow_from_directory(\r\n",
        "    test_dir, \r\n",
        "    target_size = (img_size, img_size),\r\n",
        "    color_mode = 'rgb',\r\n",
        "    batch_size = batch_size,\r\n",
        "    shuffle = False,\r\n",
        ")\r\n",
        "\r\n",
        "val_gen = datagen.flow_from_directory(\r\n",
        "    val_dir,\r\n",
        "    target_size = (img_size, img_size),\r\n",
        "    color_mode = 'rgb',\r\n",
        "    batch_size = batch_size,\r\n",
        "    shuffle = True,\r\n",
        ")\r\n"
      ],
      "execution_count": 16,
      "outputs": [
        {
          "output_type": "stream",
          "text": [
            "Found 2169 images belonging to 3 classes.\n",
            "Found 722 images belonging to 3 classes.\n",
            "Found 722 images belonging to 3 classes.\n"
          ],
          "name": "stdout"
        }
      ]
    },
    {
      "cell_type": "code",
      "metadata": {
        "id": "Soxb7TDPhfwY"
      },
      "source": [
        "URL = 'https://tfhub.dev/tensorflow/efficientnet/lite4/feature-vector/2'\r\n",
        "pretrained_model = hub.KerasLayer(URL, input_shape = (img_size, img_size,3))"
      ],
      "execution_count": 17,
      "outputs": []
    },
    {
      "cell_type": "code",
      "metadata": {
        "id": "KkzkTMBjhmxN"
      },
      "source": [
        "model = Sequential(name=plant)\r\n",
        "model.add(Flatten())\r\n",
        "model.add(Dense(512, activation = 'relu'))\r\n",
        "model.add(Dropout(.30))\r\n",
        "model.add(Dense(len(train_gen.class_indices), activation = 'softmax'))\r\n",
        "\r\n",
        "training_model = Sequential([\r\n",
        "                             pretrained_model, \r\n",
        "                             model\r\n",
        "])"
      ],
      "execution_count": 18,
      "outputs": []
    },
    {
      "cell_type": "code",
      "metadata": {
        "id": "iUZ7vP9ziKGa",
        "colab": {
          "base_uri": "https://localhost:8080/"
        },
        "outputId": "13cbd80a-0f51-4b6f-a218-b16712492a70"
      },
      "source": [
        "training_model.summary()"
      ],
      "execution_count": 19,
      "outputs": [
        {
          "output_type": "stream",
          "text": [
            "Model: \"sequential\"\n",
            "_________________________________________________________________\n",
            "Layer (type)                 Output Shape              Param #   \n",
            "=================================================================\n",
            "keras_layer (KerasLayer)     (None, 1280)              11837936  \n",
            "_________________________________________________________________\n",
            "pepper (Sequential)          (None, 3)                 657411    \n",
            "=================================================================\n",
            "Total params: 12,495,347\n",
            "Trainable params: 657,411\n",
            "Non-trainable params: 11,837,936\n",
            "_________________________________________________________________\n"
          ],
          "name": "stdout"
        }
      ]
    },
    {
      "cell_type": "code",
      "metadata": {
        "id": "EKYmBskQl3vi"
      },
      "source": [
        "f1_score = F1Score(len(train_gen.class_indices))"
      ],
      "execution_count": 20,
      "outputs": []
    },
    {
      "cell_type": "code",
      "metadata": {
        "id": "2VZttTRbiOdm"
      },
      "source": [
        "training_model.compile(optimizer=Adam(), loss=\"categorical_crossentropy\", metrics=['accuracy', f1_score])\r\n",
        "es = EarlyStopping(monitor = 'val_loss', patience =3)"
      ],
      "execution_count": 21,
      "outputs": []
    },
    {
      "cell_type": "code",
      "metadata": {
        "id": "_rQWn7vWi3E2",
        "colab": {
          "base_uri": "https://localhost:8080/"
        },
        "outputId": "8323c3aa-686b-4293-931d-175cffc95bd5"
      },
      "source": [
        "training_history = training_model.fit(train_gen, validation_data= val_gen, epochs = 5, callbacks = es)"
      ],
      "execution_count": 22,
      "outputs": [
        {
          "output_type": "stream",
          "text": [
            "Epoch 1/5\n",
            "34/34 [==============================] - 138s 3s/step - loss: 0.4622 - accuracy: 0.7730 - f1_score: 0.7725 - val_loss: 0.1043 - val_accuracy: 0.9640 - val_f1_score: 0.9635\n",
            "Epoch 2/5\n",
            "34/34 [==============================] - 100s 3s/step - loss: 0.0906 - accuracy: 0.9677 - f1_score: 0.9670 - val_loss: 0.0953 - val_accuracy: 0.9751 - val_f1_score: 0.9748\n",
            "Epoch 3/5\n",
            "34/34 [==============================] - 100s 3s/step - loss: 0.0793 - accuracy: 0.9664 - f1_score: 0.9659 - val_loss: 0.0517 - val_accuracy: 0.9861 - val_f1_score: 0.9859\n",
            "Epoch 4/5\n",
            "34/34 [==============================] - 101s 3s/step - loss: 0.0610 - accuracy: 0.9794 - f1_score: 0.9792 - val_loss: 0.0818 - val_accuracy: 0.9681 - val_f1_score: 0.9682\n",
            "Epoch 5/5\n",
            "34/34 [==============================] - 100s 3s/step - loss: 0.0376 - accuracy: 0.9885 - f1_score: 0.9884 - val_loss: 0.0469 - val_accuracy: 0.9889 - val_f1_score: 0.9888\n"
          ],
          "name": "stdout"
        }
      ]
    },
    {
      "cell_type": "code",
      "metadata": {
        "id": "RKon3IMhoQu4"
      },
      "source": [
        "os.chdir(\"/content/drive/MyDrive/Research/models\")\r\n",
        "model.save(f\"{plant}.h5\")"
      ],
      "execution_count": 23,
      "outputs": []
    },
    {
      "cell_type": "markdown",
      "metadata": {
        "id": "ZQje6bx_kOT-"
      },
      "source": [
        "# Model Training Analytics\r\n",
        "\r\n"
      ]
    },
    {
      "cell_type": "code",
      "metadata": {
        "id": "F3PEfEmHpjO8",
        "colab": {
          "base_uri": "https://localhost:8080/",
          "height": 295
        },
        "outputId": "55d93ec1-d8fb-4001-9395-16685ce2c93f"
      },
      "source": [
        "plt.plot(training_history.history['accuracy'])\r\n",
        "plt.plot(training_history.history['val_accuracy'])\r\n",
        "plt.title(f'{plant.title()} Model Accuracy')\r\n",
        "plt.ylabel('Accuracy')\r\n",
        "plt.xlabel('Epoch')\r\n",
        "plt.legend(['Train','Validation'], loc = 'center left', bbox_to_anchor=(1, 0.5))\r\n",
        "plt.show()\r\n"
      ],
      "execution_count": 24,
      "outputs": [
        {
          "output_type": "display_data",
          "data": {
            "image/png": "[encoded data removed]",
            "text/plain": [
              "<Figure size 432x288 with 1 Axes>"
            ]
          },
          "metadata": {
            "tags": [],
            "needs_background": "light"
          }
        }
      ]
    },
    {
      "cell_type": "code",
      "metadata": {
        "id": "CjekDLDkpUVz",
        "colab": {
          "base_uri": "https://localhost:8080/",
          "height": 295
        },
        "outputId": "ce220440-7ceb-4a41-ee2b-422c45697e2e"
      },
      "source": [
        "\r\n",
        "plt.plot(training_history.history['f1_score'])\r\n",
        "plt.title(f'{plant.title()} Model Training F1_Score')\r\n",
        "plt.ylabel('f1_score')\r\n",
        "plt.xlabel('Epoch')\r\n",
        "plt.legend(train_gen.class_indices.keys(), loc = 'center left', bbox_to_anchor=(1,0.5))\r\n",
        "plt.show()\r\n"
      ],
      "execution_count": 25,
      "outputs": [
        {
          "output_type": "display_data",
          "data": {
            "image/png": "[encoded data removed]",
            "text/plain": [
              "<Figure size 432x288 with 1 Axes>"
            ]
          },
          "metadata": {
            "tags": [],
            "needs_background": "light"
          }
        }
      ]
    },
    {
      "cell_type": "code",
      "metadata": {
        "id": "Jl-B-uEFp1mK",
        "colab": {
          "base_uri": "https://localhost:8080/",
          "height": 295
        },
        "outputId": "240c910f-db32-47e9-d087-a9ee839600b4"
      },
      "source": [
        "plt.plot(training_history.history['val_f1_score'])\r\n",
        "plt.title(f'{plant.title()} Model Validation F1_Score')\r\n",
        "plt.ylabel('f1_score')\r\n",
        "plt.xlabel('Epoch')\r\n",
        "plt.legend(train_gen.class_indices.keys(), loc = 'center left', bbox_to_anchor=(1,0.5))\r\n",
        "plt.show()\r\n"
      ],
      "execution_count": 26,
      "outputs": [
        {
          "output_type": "display_data",
          "data": {
            "image/png": "[encoded data removed]",
            "text/plain": [
              "<Figure size 432x288 with 1 Axes>"
            ]
          },
          "metadata": {
            "tags": [],
            "needs_background": "light"
          }
        }
      ]
    },
    {
      "cell_type": "markdown",
      "metadata": {
        "id": "2kQd0XVMrkIw"
      },
      "source": [
        "# Model Testing Analytics"
      ]
    },
    {
      "cell_type": "code",
      "metadata": {
        "id": "sNAoC49Arx0U"
      },
      "source": [
        "from mlxtend.plotting import plot_confusion_matrix \r\n",
        "from sklearn.metrics import confusion_matrix"
      ],
      "execution_count": 27,
      "outputs": []
    },
    {
      "cell_type": "code",
      "metadata": {
        "id": "O6Zm3yoH-wAR"
      },
      "source": [
        "y_true = test_gen.classes\r\n",
        "y_pred = training_model.predict(test_gen)\r\n",
        "class_names = test_gen.class_indices.keys()"
      ],
      "execution_count": 28,
      "outputs": []
    },
    {
      "cell_type": "code",
      "metadata": {
        "id": "v9UE3k02HF3x"
      },
      "source": [
        "y_pred = np.argmax(y_pred, axis = 1)"
      ],
      "execution_count": 29,
      "outputs": []
    },
    {
      "cell_type": "code",
      "metadata": {
        "id": "eWSE_rij_A_f",
        "colab": {
          "base_uri": "https://localhost:8080/",
          "height": 559
        },
        "outputId": "091d39ae-3392-4a60-dbf1-4ba12a7c132f"
      },
      "source": [
        "cs = confusion_matrix(y_true, y_pred)\r\n",
        "cm = plot_confusion_matrix(conf_mat=cs, figsize =(8,8), class_names=class_names, colorbar=True)"
      ],
      "execution_count": 30,
      "outputs": [
        {
          "output_type": "display_data",
          "data": {
            "image/png": "[encoded data removed]",
            "text/plain": [
              "<Figure size 576x576 with 2 Axes>"
            ]
          },
          "metadata": {
            "tags": [],
            "needs_background": "light"
          }
        }
      ]
    }
  ]
}