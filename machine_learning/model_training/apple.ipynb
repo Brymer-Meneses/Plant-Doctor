{
  "nbformat": 4,
  "nbformat_minor": 0,
  "metadata": {
    "colab": {
      "name": "apple.ipynb",
      "provenance": [],
      "toc_visible": true,
      "include_colab_link": true
    },
    "kernelspec": {
      "display_name": "Python 3",
      "name": "python3"
    },
    "accelerator": "GPU"
  },
  "cells": [
    {
      "cell_type": "markdown",
      "metadata": {
        "id": "view-in-github",
        "colab_type": "text"
      },
      "source": [
        "<a href=\"https://colab.research.google.com/github/brymer-meneses/chloroplast/blob/main/machine_learning/model_training/apple.ipynb\" target=\"_parent\"><img src=\"https://colab.research.google.com/assets/colab-badge.svg\" alt=\"Open In Colab\"/></a>"
      ]
    },
    {
      "cell_type": "markdown",
      "metadata": {
        "id": "PddQCAHZvrzr"
      },
      "source": [
        "# Prerequisites\r\n"
      ]
    },
    {
      "cell_type": "code",
      "metadata": {
        "id": "MyHQ4xXSnizF"
      },
      "source": [
        "import pandas as pd \r\n",
        "import numpy as np\r\n",
        "import tensorflow as tf\r\n",
        "import tensorflow_hub as hub\r\n",
        "import matplotlib.pyplot as plt\r\n",
        "\r\n",
        "import os \r\n",
        "import shutil\r\n",
        "\r\n",
        "from zipfile import ZipFile\r\n",
        "from os.path import join\r\n",
        "from os import listdir\r\n",
        "from google.colab import drive\r\n",
        "\r\n",
        "import math \r\n",
        "import random "
      ],
      "execution_count": 1,
      "outputs": []
    },
    {
      "cell_type": "code",
      "metadata": {
        "colab": {
          "base_uri": "https://localhost:8080/"
        },
        "id": "7GkriDZ3oCzi",
        "outputId": "63d59720-8783-4239-b682-ef710dac4556"
      },
      "source": [
        "drive.mount('drive', force_remount=True)"
      ],
      "execution_count": 2,
      "outputs": [
        {
          "output_type": "stream",
          "text": [
            "Mounted at drive\n"
          ],
          "name": "stdout"
        }
      ]
    },
    {
      "cell_type": "markdown",
      "metadata": {
        "id": "Q2fJrG7_nrHQ"
      },
      "source": [
        "# File Structuring"
      ]
    },
    {
      "cell_type": "code",
      "metadata": {
        "colab": {
          "base_uri": "https://localhost:8080/"
        },
        "id": "BAbv-ETXoxcN",
        "outputId": "eced4c9a-423b-41ae-a827-5ae020018452"
      },
      "source": [
        "!wget https://data.mendeley.com/public-files/datasets/tywbtsjrjv/files/d5652a28-c1d8-4b76-97f3-72fb80f94efc/file_downloaded"
      ],
      "execution_count": 3,
      "outputs": [
        {
          "output_type": "stream",
          "text": [
            "--2021-03-10 09:58:08--  https://data.mendeley.com/public-files/datasets/tywbtsjrjv/files/d5652a28-c1d8-4b76-97f3-72fb80f94efc/file_downloaded\n",
            "Resolving data.mendeley.com (data.mendeley.com)... 162.159.130.86, 162.159.133.86\n",
            "Connecting to data.mendeley.com (data.mendeley.com)|162.159.130.86|:443... connected.\n",
            "HTTP request sent, awaiting response... 302 Found\n",
            "Location: https://md-datasets-public-files-prod.s3.eu-west-1.amazonaws.com/d29ed9b2-8a5d-4663-8a82-c9174f2c7066 [following]\n",
            "--2021-03-10 09:58:08--  https://md-datasets-public-files-prod.s3.eu-west-1.amazonaws.com/d29ed9b2-8a5d-4663-8a82-c9174f2c7066\n",
            "Resolving md-datasets-public-files-prod.s3.eu-west-1.amazonaws.com (md-datasets-public-files-prod.s3.eu-west-1.amazonaws.com)... 52.218.36.83\n",
            "Connecting to md-datasets-public-files-prod.s3.eu-west-1.amazonaws.com (md-datasets-public-files-prod.s3.eu-west-1.amazonaws.com)|52.218.36.83|:443... connected.\n",
            "HTTP request sent, awaiting response... 200 OK\n",
            "Length: 868032562 (828M) [application/zip]\n",
            "Saving to: ‘file_downloaded’\n",
            "\n",
            "file_downloaded     100%[===================>] 827.82M  48.6MB/s    in 18s     \n",
            "\n",
            "2021-03-10 09:58:26 (45.8 MB/s) - ‘file_downloaded’ saved [868032562/868032562]\n",
            "\n"
          ],
          "name": "stdout"
        }
      ]
    },
    {
      "cell_type": "code",
      "metadata": {
        "id": "kFKEMmxvsjWF"
      },
      "source": [
        "os.rename('file_downloaded', \"plantvillage_ds.zip\")\r\n",
        "with ZipFile('plantvillage_ds.zip', 'r') as file:\r\n",
        "  file.extractall()\r\n",
        "\r\n",
        "os.remove('plantvillage_ds.zip')\r\n",
        "os.rename('/content/Plant_leave_diseases_dataset_without_augmentation', \"/content/dataset\")"
      ],
      "execution_count": 4,
      "outputs": []
    },
    {
      "cell_type": "code",
      "metadata": {
        "id": "AVd7jKKftHsi"
      },
      "source": [
        "# Plants to be deleted \r\n",
        "def delete_plants(dataset_plant):\r\n",
        "  dataset_dir = \"/content/dataset\"\r\n",
        "  for plant in os.listdir(dataset_dir):\r\n",
        "\r\n",
        "    # Skip the folder 'Background_without_leaves\" since it \r\n",
        "    # will serve as the non-informative class\r\n",
        "\r\n",
        "    if plant == \"Background_without_leaves\":\r\n",
        "      continue\r\n",
        "    \r\n",
        "    elif not dataset_plant in plant.lower():\r\n",
        "      \r\n",
        "      shutil.rmtree(join(dataset_dir, plant))\r\n",
        "  return"
      ],
      "execution_count": 5,
      "outputs": []
    },
    {
      "cell_type": "code",
      "metadata": {
        "id": "27SlQucNHsFe"
      },
      "source": [
        "def train_val_test_split(source_dir, destination_dir, data_split=[0.6, 0.2, 0.2]):\r\n",
        "\r\n",
        "  \"\"\"Copies the file structure of a directory and splits it for \r\n",
        "  train, test, validation.\r\n",
        "\r\n",
        "  source_dir/\r\n",
        "    ├─ folder1/\r\n",
        "    ├─ folder2/\r\n",
        "    ├─ .../\r\n",
        "\r\n",
        "  destination_dir/\r\n",
        "    |\r\n",
        "    ├─ train/\r\n",
        "    │   ├─ folder1/\r\n",
        "    │   ├─ folder2/\r\n",
        "    │   ├─ .../\r\n",
        "    │\r\n",
        "    ├─ test/\r\n",
        "    │   ├─ folder1/\r\n",
        "    │   ├─ folder2/\r\n",
        "    │   ├─ .../\r\n",
        "    |\r\n",
        "    ├─ val/\r\n",
        "    │   ├─ folder1/\r\n",
        "    │   ├─ folder2/\r\n",
        "    │   ├─ .../\r\n",
        "\r\n",
        "  \r\n",
        "  \"\"\"\r\n",
        "  assert float(data_split[0] + data_split[1] + data_split[2]) == 1.0, \"Data Split must be equal to 1\"\r\n",
        "  if not os.path.isdir(destination_dir):\r\n",
        "    os.mkdir(destination_dir)\r\n",
        "  \r\n",
        "  dirs = [\"train\", \"val\", \"test\"]\r\n",
        "\r\n",
        "  for dir in dirs:\r\n",
        "    try:\r\n",
        "      os.mkdir(os.path.join(destination_dir, dir))\r\n",
        "    except Exception as e:\r\n",
        "      print(e)\r\n",
        "\r\n",
        "    for plant_type in os.listdir(source_dir):\r\n",
        "      try:\r\n",
        "        os.mkdir(os.path.join(destination_dir, dir, plant_type))\r\n",
        "      except Exception as e:\r\n",
        "        print(e)\r\n",
        "\r\n",
        "  \r\n",
        "  def split(source, destination, total):\r\n",
        "    counter = 0\r\n",
        "    while not counter == total:\r\n",
        "      random_image = random.choice(os.listdir(source))\r\n",
        "      image_source = os.path.join(source, random_image)\r\n",
        "     \r\n",
        "      image_destination = os.path.join(destination, random_image)\r\n",
        "\r\n",
        "      shutil.move(image_source, image_destination)\r\n",
        "\r\n",
        "      counter += 1\r\n",
        "    return\r\n",
        "\r\n",
        "  for folder in os.listdir(source_dir):\r\n",
        "    \r\n",
        "  \r\n",
        "    total_images = len(os.listdir(os.path.join(source_dir, folder)))\r\n",
        "    train_total = math.floor(total_images * data_split[0])\r\n",
        "    test_total = math.floor(total_images * data_split[1])\r\n",
        "    val_total = math.floor(total_images * data_split[2])\r\n",
        "\r\n",
        "    split(join(source_dir, folder), os.path.join(destination_dir, \"train\", folder), train_total)\r\n",
        "    split(join(source_dir, folder), os.path.join(destination_dir, \"test\", folder), test_total)\r\n",
        "    split(join(source_dir, folder), os.path.join(destination_dir, \"val\", folder), val_total)\r\n",
        "\r\n",
        "    print(f\"Successfully splitted data from {os.path.join(source_dir, folder)} {os.path.join(destination_dir, folder)}\")\r\n",
        "    print(f\"\\t - Train Images: {train_total}\")\r\n",
        "    print(f\"\\t - Val Images: {val_total}\")\r\n",
        "    print(f\"\\t - Test Images: {train_total}\")\r\n",
        "    \r\n",
        "  return \r\n",
        "\r\n"
      ],
      "execution_count": 6,
      "outputs": []
    },
    {
      "cell_type": "code",
      "metadata": {
        "id": "8U4OcVvBaG06"
      },
      "source": [
        "def normalize_dataset(dataset_path, normalize_path, plant_name):\r\n",
        "  \"\"\" Normalizes the number of images \r\n",
        "      from a certain class of a dataset  \"\"\"\r\n",
        "  plant_count = []\r\n",
        "  print(f'Before Normalization: {len(os.listdir(normalize_path))}\\n')\r\n",
        "\r\n",
        "  for folder in os.listdir(dataset_path):\r\n",
        "    if plant_name in folder.lower():\r\n",
        "      plant_folder = os.path.join(dataset_path, plant_name)\r\n",
        "      plant_images_total = len(os.listdir(os.path.join(dataset_path, folder)))\r\n",
        "\r\n",
        "      plant_count.append(plant_images_total)\r\n",
        "      print(f'{folder} total: {plant_images_total}')\r\n",
        "\r\n",
        "  average = math.floor(np.sum(plant_count) / len(plant_count))\r\n",
        "  print(f'\\nAverage: {average}')\r\n",
        "  \r\n",
        "  while len(os.listdir(normalize_path)) != average:\r\n",
        "    random_image = random.choice(os.listdir(normalize_path))\r\n",
        "    random_image_path = os.path.join(normalize_path, random_image)\r\n",
        "    os.remove(random_image_path)\r\n",
        "  \r\n",
        "  print(f'After Normalization: {len(os.listdir(normalize_path))}')\r\n",
        "  return \r\n",
        "\r\n",
        "    "
      ],
      "execution_count": 7,
      "outputs": []
    },
    {
      "cell_type": "markdown",
      "metadata": {
        "id": "v6Rph3Nlvxp3"
      },
      "source": [
        "# Model Training"
      ]
    },
    {
      "cell_type": "code",
      "metadata": {
        "id": "wDiRrCv1uaVH"
      },
      "source": [
        "delete_plants(\"apple\")\r\n"
      ],
      "execution_count": 8,
      "outputs": []
    },
    {
      "cell_type": "code",
      "metadata": {
        "colab": {
          "base_uri": "https://localhost:8080/"
        },
        "id": "cB3x7E7pb7QQ",
        "outputId": "8dd96eb3-ad1d-44b7-cdec-25802beb49c2"
      },
      "source": [
        "normalize_dataset('/content/dataset', '/content/dataset/Background_without_leaves', 'apple')"
      ],
      "execution_count": 9,
      "outputs": [
        {
          "output_type": "stream",
          "text": [
            "Before Normalization: 1143\n",
            "\n",
            "Apple___Black_rot total: 621\n",
            "Apple___healthy total: 1645\n",
            "Apple___Cedar_apple_rust total: 275\n",
            "Apple___Apple_scab total: 630\n",
            "\n",
            "Average: 792\n",
            "After Normalization: 792\n"
          ],
          "name": "stdout"
        }
      ]
    },
    {
      "cell_type": "code",
      "metadata": {
        "colab": {
          "base_uri": "https://localhost:8080/"
        },
        "id": "M07rCFsNJpJ3",
        "outputId": "7cce6d43-b729-4e48-a232-a75ab3f8598d"
      },
      "source": [
        "train_val_test_split(\"/content/dataset\", \"/content/split\")"
      ],
      "execution_count": 10,
      "outputs": [
        {
          "output_type": "stream",
          "text": [
            "Successfully splitted data from /content/dataset/Background_without_leaves /content/split/Background_without_leaves\n",
            "\t - Train Images: 475\n",
            "\t - Val Images: 158\n",
            "\t - Test Images: 475\n",
            "Successfully splitted data from /content/dataset/Apple___Black_rot /content/split/Apple___Black_rot\n",
            "\t - Train Images: 372\n",
            "\t - Val Images: 124\n",
            "\t - Test Images: 372\n",
            "Successfully splitted data from /content/dataset/Apple___healthy /content/split/Apple___healthy\n",
            "\t - Train Images: 987\n",
            "\t - Val Images: 329\n",
            "\t - Test Images: 987\n",
            "Successfully splitted data from /content/dataset/Apple___Cedar_apple_rust /content/split/Apple___Cedar_apple_rust\n",
            "\t - Train Images: 165\n",
            "\t - Val Images: 55\n",
            "\t - Test Images: 165\n",
            "Successfully splitted data from /content/dataset/Apple___Apple_scab /content/split/Apple___Apple_scab\n",
            "\t - Train Images: 378\n",
            "\t - Val Images: 126\n",
            "\t - Test Images: 378\n"
          ],
          "name": "stdout"
        }
      ]
    },
    {
      "cell_type": "code",
      "metadata": {
        "id": "zncp5Hf1xPei"
      },
      "source": [
        "from tensorflow.keras.models import load_model, save_model, Sequential\r\n",
        "from tensorflow.keras.preprocessing.image import ImageDataGenerator\r\n",
        "from tensorflow.keras.layers import Dense, Dropout, Flatten, GlobalAveragePooling2D\r\n",
        "from tensorflow.keras.optimizers import Adam\r\n",
        "from tensorflow.keras.callbacks import EarlyStopping\r\n",
        "\r\n",
        "# Evaluation\r\n",
        "\r\n",
        "import tensorflow_addons as tfa\r\n",
        "from tensorflow_addons.metrics import F1Score"
      ],
      "execution_count": 16,
      "outputs": []
    },
    {
      "cell_type": "code",
      "metadata": {
        "id": "SYV7eQ38y6py"
      },
      "source": [
        "# We will fine-tune EfficientLite-Lite4\r\n",
        "img_size = 380\r\n",
        "batch_size = 64\r\n",
        "\r\n",
        "train_dir = \"/content/split/train\"\r\n",
        "val_dir = \"/content/split/val\"\r\n",
        "test_dir = \"/content/split/test\""
      ],
      "execution_count": 17,
      "outputs": []
    },
    {
      "cell_type": "code",
      "metadata": {
        "colab": {
          "base_uri": "https://localhost:8080/"
        },
        "id": "Cwvk_stk1yJs",
        "outputId": "513b57f1-6c4d-413c-e185-0209f9a66b2e"
      },
      "source": [
        "# Data Split\r\n",
        "# Training Data - 60%\r\n",
        "# Validation Data - 20%\r\n",
        "# Test Data - 20%\r\n",
        "\r\n",
        "datagen = ImageDataGenerator(\r\n",
        "    horizontal_flip = True,\r\n",
        "    vertical_flip = True,\r\n",
        "    brightness_range = [0.7, 1.3],\r\n",
        "    zoom_range = [0.9, 1.1],\r\n",
        "    rescale = 1/255,\r\n",
        ")\r\n",
        "\r\n",
        "train_gen = datagen.flow_from_directory(\r\n",
        "    train_dir, \r\n",
        "    target_size = (img_size, img_size),\r\n",
        "    color_mode = 'rgb',\r\n",
        "    batch_size = batch_size,\r\n",
        "    shuffle = True,\r\n",
        ")\r\n",
        "\r\n",
        "test_gen = datagen.flow_from_directory(\r\n",
        "    test_dir, \r\n",
        "    target_size = (img_size, img_size),\r\n",
        "    color_mode = 'rgb',\r\n",
        "    batch_size = batch_size,\r\n",
        "    shuffle = False,\r\n",
        ")\r\n",
        "\r\n",
        "val_gen = datagen.flow_from_directory(\r\n",
        "    val_dir,\r\n",
        "    target_size = (img_size, img_size),\r\n",
        "    color_mode = 'rgb',\r\n",
        "    batch_size = batch_size,\r\n",
        "    shuffle = True,\r\n",
        ")\r\n"
      ],
      "execution_count": 18,
      "outputs": [
        {
          "output_type": "stream",
          "text": [
            "Found 2377 images belonging to 5 classes.\n",
            "Found 792 images belonging to 5 classes.\n",
            "Found 792 images belonging to 5 classes.\n"
          ],
          "name": "stdout"
        }
      ]
    },
    {
      "cell_type": "code",
      "metadata": {
        "id": "Soxb7TDPhfwY"
      },
      "source": [
        "URL = 'https://tfhub.dev/tensorflow/efficientnet/lite4/feature-vector/2'\r\n",
        "pretrained_model = hub.KerasLayer(URL, input_shape = (img_size, img_size,3))"
      ],
      "execution_count": 19,
      "outputs": []
    },
    {
      "cell_type": "code",
      "metadata": {
        "id": "KkzkTMBjhmxN"
      },
      "source": [
        "apple_model = Sequential(name=\"apple\")\r\n",
        "apple_model.add(Flatten())\r\n",
        "apple_model.add(Dense(512, activation = 'relu'))\r\n",
        "apple_model.add(Dropout(.30))\r\n",
        "apple_model.add(Dense(len(train_gen.class_indices), activation = 'softmax'))\r\n",
        "\r\n",
        "training_model = Sequential([\r\n",
        "                             pretrained_model, \r\n",
        "                             apple_model,\r\n",
        "])"
      ],
      "execution_count": 20,
      "outputs": []
    },
    {
      "cell_type": "code",
      "metadata": {
        "colab": {
          "base_uri": "https://localhost:8080/"
        },
        "id": "iUZ7vP9ziKGa",
        "outputId": "fd32e689-147d-4032-a3e2-02b69cd836d2"
      },
      "source": [
        "training_model.summary()"
      ],
      "execution_count": 21,
      "outputs": [
        {
          "output_type": "stream",
          "text": [
            "Model: \"sequential\"\n",
            "_________________________________________________________________\n",
            "Layer (type)                 Output Shape              Param #   \n",
            "=================================================================\n",
            "keras_layer (KerasLayer)     (None, 1280)              11837936  \n",
            "_________________________________________________________________\n",
            "apple (Sequential)           (None, 5)                 658437    \n",
            "=================================================================\n",
            "Total params: 12,496,373\n",
            "Trainable params: 658,437\n",
            "Non-trainable params: 11,837,936\n",
            "_________________________________________________________________\n"
          ],
          "name": "stdout"
        }
      ]
    },
    {
      "cell_type": "code",
      "metadata": {
        "id": "EKYmBskQl3vi"
      },
      "source": [
        "f1_score = F1Score(len(train_gen.class_indices))"
      ],
      "execution_count": 22,
      "outputs": []
    },
    {
      "cell_type": "code",
      "metadata": {
        "id": "2VZttTRbiOdm"
      },
      "source": [
        "training_model.compile(optimizer=Adam(), loss=\"categorical_crossentropy\", metrics=['accuracy', f1_score])\r\n",
        "es = EarlyStopping(monitor = 'val_loss', patience =3)"
      ],
      "execution_count": 23,
      "outputs": []
    },
    {
      "cell_type": "code",
      "metadata": {
        "colab": {
          "base_uri": "https://localhost:8080/"
        },
        "id": "_rQWn7vWi3E2",
        "outputId": "93c550ba-94e6-4c0c-9da0-b39c18f39470"
      },
      "source": [
        "training_history = training_model.fit(train_gen, validation_data= val_gen, epochs = 5, callbacks = es)"
      ],
      "execution_count": 24,
      "outputs": [
        {
          "output_type": "stream",
          "text": [
            "Epoch 1/5\n",
            "38/38 [==============================] - 178s 4s/step - loss: 0.6613 - accuracy: 0.7535 - f1_score: 0.6834 - val_loss: 0.1555 - val_accuracy: 0.9495 - val_f1_score: 0.9194\n",
            "Epoch 2/5\n",
            "38/38 [==============================] - 140s 4s/step - loss: 0.1410 - accuracy: 0.9521 - f1_score: 0.9420 - val_loss: 0.1138 - val_accuracy: 0.9634 - val_f1_score: 0.9508\n",
            "Epoch 3/5\n",
            "38/38 [==============================] - 140s 4s/step - loss: 0.1018 - accuracy: 0.9657 - f1_score: 0.9589 - val_loss: 0.1200 - val_accuracy: 0.9558 - val_f1_score: 0.9435\n",
            "Epoch 4/5\n",
            "38/38 [==============================] - 139s 4s/step - loss: 0.0917 - accuracy: 0.9679 - f1_score: 0.9671 - val_loss: 0.0897 - val_accuracy: 0.9672 - val_f1_score: 0.9540\n",
            "Epoch 5/5\n",
            "38/38 [==============================] - 139s 4s/step - loss: 0.0646 - accuracy: 0.9779 - f1_score: 0.9736 - val_loss: 0.0929 - val_accuracy: 0.9646 - val_f1_score: 0.9575\n"
          ],
          "name": "stdout"
        }
      ]
    },
    {
      "cell_type": "code",
      "metadata": {
        "id": "RKon3IMhoQu4"
      },
      "source": [
        "os.chdir(\"/content/drive/MyDrive/Research/models\")\r\n",
        "apple_model.save(\"apple.h5\")"
      ],
      "execution_count": 25,
      "outputs": []
    },
    {
      "cell_type": "code",
      "metadata": {
        "colab": {
          "base_uri": "https://localhost:8080/"
        },
        "id": "agmMtlAUqPDD",
        "outputId": "156b0745-3380-4191-a7d0-61a760630bd9"
      },
      "source": [
        "print(train_gen.class_indices.keys())"
      ],
      "execution_count": 36,
      "outputs": [
        {
          "output_type": "stream",
          "text": [
            "dict_keys(['Apple___Apple_scab', 'Apple___Black_rot', 'Apple___Cedar_apple_rust', 'Apple___healthy', 'Background_without_leaves'])\n"
          ],
          "name": "stdout"
        }
      ]
    },
    {
      "cell_type": "markdown",
      "metadata": {
        "id": "ZQje6bx_kOT-"
      },
      "source": [
        "# Model Training Analytics\r\n",
        "\r\n"
      ]
    },
    {
      "cell_type": "code",
      "metadata": {
        "colab": {
          "base_uri": "https://localhost:8080/",
          "height": 295
        },
        "id": "F3PEfEmHpjO8",
        "outputId": "ab556162-a015-4116-e9f3-5fd030621afd"
      },
      "source": [
        "plt.plot(training_history.history['accuracy'])\r\n",
        "plt.plot(training_history.history['val_accuracy'])\r\n",
        "plt.title('Apple Model Accuracy')\r\n",
        "plt.ylabel('Accuracy')\r\n",
        "plt.xlabel('Epoch')\r\n",
        "plt.legend(['Train','Validation'], loc = 'upper left')\r\n",
        "plt.show()\r\n"
      ],
      "execution_count": 26,
      "outputs": [
        {
          "output_type": "display_data",
          "data": {
            "image/png": "[encoded data removed]",
            "text/plain": [
              "<Figure size 432x288 with 1 Axes>"
            ]
          },
          "metadata": {
            "tags": [],
            "needs_background": "light"
          }
        }
      ]
    },
    {
      "cell_type": "code",
      "metadata": {
        "colab": {
          "base_uri": "https://localhost:8080/",
          "height": 295
        },
        "id": "CjekDLDkpUVz",
        "outputId": "061d628f-9ffe-46eb-b75b-65ebc40563bb"
      },
      "source": [
        "\r\n",
        "plt.plot(training_history.history['f1_score'])\r\n",
        "plt.title('Apple Model Training F1_Score')\r\n",
        "plt.ylabel('f1_score')\r\n",
        "plt.xlabel('Epoch')\r\n",
        "plt.legend(train_gen.class_indices.keys(), loc = 'lower right')\r\n",
        "plt.show()\r\n"
      ],
      "execution_count": 39,
      "outputs": [
        {
          "output_type": "display_data",
          "data": {
            "image/png": "[encoded data removed]",
            "text/plain": [
              "<Figure size 432x288 with 1 Axes>"
            ]
          },
          "metadata": {
            "tags": [],
            "needs_background": "light"
          }
        }
      ]
    },
    {
      "cell_type": "code",
      "metadata": {
        "colab": {
          "base_uri": "https://localhost:8080/",
          "height": 295
        },
        "id": "Jl-B-uEFp1mK",
        "outputId": "656a7041-3e79-4553-b97b-370b7f7c77f0"
      },
      "source": [
        "plt.plot(training_history.history['val_f1_score'])\r\n",
        "plt.title('Apple Model Validation F1_Score')\r\n",
        "plt.ylabel('f1_score')\r\n",
        "plt.xlabel('Epoch')\r\n",
        "plt.legend(train_gen.class_indices.keys(), loc = 'lower right')\r\n",
        "plt.show()\r\n"
      ],
      "execution_count": 40,
      "outputs": [
        {
          "output_type": "display_data",
          "data": {
            "image/png": "[encoded data removed]",
            "text/plain": [
              "<Figure size 432x288 with 1 Axes>"
            ]
          },
          "metadata": {
            "tags": [],
            "needs_background": "light"
          }
        }
      ]
    },
    {
      "cell_type": "markdown",
      "metadata": {
        "id": "2kQd0XVMrkIw"
      },
      "source": [
        "# Model Testing Analytics"
      ]
    },
    {
      "cell_type": "code",
      "metadata": {
        "id": "sNAoC49Arx0U"
      },
      "source": [
        ""
      ],
      "execution_count": null,
      "outputs": []
    }
  ]
}