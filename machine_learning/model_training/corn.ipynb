{
  "nbformat": 4,
  "nbformat_minor": 0,
  "metadata": {
    "accelerator": "GPU",
    "colab": {
      "name": "corn.ipynb",
      "provenance": [],
      "toc_visible": true,
      "mount_file_id": "1z_WT46i5dkr12f9XdxEfF8zCo91W16oX",
      "authorship_tag": "ABX9TyOW8RyWihyAfwmSdKTPQGM+",
      "include_colab_link": true
    },
    "kernelspec": {
      "display_name": "Python 3",
      "name": "python3"
    }
  },
  "cells": [
    {
      "cell_type": "markdown",
      "metadata": {
        "id": "view-in-github",
        "colab_type": "text"
      },
      "source": [
        "<a href=\"https://colab.research.google.com/github/Brymer-Meneses/Plant-Doctor/blob/main/machine_learning/model_training/corn.ipynb\" target=\"_parent\"><img src=\"https://colab.research.google.com/assets/colab-badge.svg\" alt=\"Open In Colab\"/></a>"
      ]
    },
    {
      "cell_type": "markdown",
      "metadata": {
        "id": "PddQCAHZvrzr"
      },
      "source": [
        "# Prerequisites\r\n"
      ]
    },
    {
      "cell_type": "code",
      "metadata": {
        "id": "MyHQ4xXSnizF"
      },
      "source": [
        "import pandas as pd \r\n",
        "import numpy as np\r\n",
        "import tensorflow as tf\r\n",
        "import tensorflow_hub as hub\r\n",
        "import matplotlib.pyplot as plt\r\n",
        "\r\n",
        "import os \r\n",
        "import shutil\r\n",
        "\r\n",
        "from zipfile import ZipFile\r\n",
        "from os.path import join\r\n",
        "from os import listdir\r\n",
        "from google.colab import drive\r\n",
        "\r\n",
        "import math \r\n",
        "import random "
      ],
      "execution_count": 1,
      "outputs": []
    },
    {
      "cell_type": "code",
      "metadata": {
        "colab": {
          "base_uri": "https://localhost:8080/"
        },
        "id": "7GkriDZ3oCzi",
        "outputId": "8c532b01-9f51-414c-df8b-759f69a04f14"
      },
      "source": [
        "drive.mount('drive', force_remount=True)"
      ],
      "execution_count": 2,
      "outputs": [
        {
          "output_type": "stream",
          "text": [
            "Mounted at drive\n"
          ],
          "name": "stdout"
        }
      ]
    },
    {
      "cell_type": "markdown",
      "metadata": {
        "id": "Q2fJrG7_nrHQ"
      },
      "source": [
        "# File Structuring"
      ]
    },
    {
      "cell_type": "code",
      "metadata": {
        "colab": {
          "base_uri": "https://localhost:8080/"
        },
        "id": "BAbv-ETXoxcN",
        "outputId": "deb58a46-a894-410b-ce81-0d3746650557"
      },
      "source": [
        "!wget https://data.mendeley.com/public-files/datasets/tywbtsjrjv/files/d5652a28-c1d8-4b76-97f3-72fb80f94efc/file_downloaded"
      ],
      "execution_count": 3,
      "outputs": [
        {
          "output_type": "stream",
          "text": [
            "--2021-02-20 15:37:22--  https://data.mendeley.com/public-files/datasets/tywbtsjrjv/files/d5652a28-c1d8-4b76-97f3-72fb80f94efc/file_downloaded\n",
            "Resolving data.mendeley.com (data.mendeley.com)... 162.159.133.86, 162.159.130.86\n",
            "Connecting to data.mendeley.com (data.mendeley.com)|162.159.133.86|:443... connected.\n",
            "HTTP request sent, awaiting response... 302 Found\n",
            "Location: https://md-datasets-public-files-prod.s3.eu-west-1.amazonaws.com/d29ed9b2-8a5d-4663-8a82-c9174f2c7066 [following]\n",
            "--2021-02-20 15:37:22--  https://md-datasets-public-files-prod.s3.eu-west-1.amazonaws.com/d29ed9b2-8a5d-4663-8a82-c9174f2c7066\n",
            "Resolving md-datasets-public-files-prod.s3.eu-west-1.amazonaws.com (md-datasets-public-files-prod.s3.eu-west-1.amazonaws.com)... 52.218.24.35\n",
            "Connecting to md-datasets-public-files-prod.s3.eu-west-1.amazonaws.com (md-datasets-public-files-prod.s3.eu-west-1.amazonaws.com)|52.218.24.35|:443... connected.\n",
            "HTTP request sent, awaiting response... 200 OK\n",
            "Length: 868032562 (828M) [application/zip]\n",
            "Saving to: ‘file_downloaded’\n",
            "\n",
            "file_downloaded     100%[===================>] 827.82M  30.4MB/s    in 28s     \n",
            "\n",
            "2021-02-20 15:37:51 (29.2 MB/s) - ‘file_downloaded’ saved [868032562/868032562]\n",
            "\n"
          ],
          "name": "stdout"
        }
      ]
    },
    {
      "cell_type": "code",
      "metadata": {
        "id": "kFKEMmxvsjWF"
      },
      "source": [
        "os.rename('file_downloaded', \"plantvillage_ds.zip\")\r\n",
        "with ZipFile('plantvillage_ds.zip', 'r') as file:\r\n",
        "  file.extractall()\r\n",
        "\r\n",
        "os.remove('plantvillage_ds.zip')\r\n",
        "os.rename('/content/Plant_leave_diseases_dataset_without_augmentation', \"/content/dataset\")"
      ],
      "execution_count": 4,
      "outputs": []
    },
    {
      "cell_type": "code",
      "metadata": {
        "id": "AVd7jKKftHsi"
      },
      "source": [
        "# Plants to be deleted \r\n",
        "def delete_plants(dataset_plant):\r\n",
        "  dataset_dir = \"/content/dataset\"\r\n",
        "  for plant in os.listdir(dataset_dir):\r\n",
        "    if not dataset_plant in plant.lower():\r\n",
        "      shutil.rmtree(join(dataset_dir, plant))\r\n",
        "  return"
      ],
      "execution_count": 5,
      "outputs": []
    },
    {
      "cell_type": "code",
      "metadata": {
        "id": "27SlQucNHsFe"
      },
      "source": [
        "def train_val_test_split(source_dir, destination_dir, data_split=[0.6, 0.2, 0.2]):\r\n",
        "\r\n",
        "  \"\"\"Copies the file structure of a directory and splits it for \r\n",
        "  train, test, validation.\r\n",
        "\r\n",
        "  source_dir/\r\n",
        "    ├─ folder1/\r\n",
        "    ├─ folder2/\r\n",
        "    ├─ .../\r\n",
        "\r\n",
        "  destination_dir/\r\n",
        "    |\r\n",
        "    ├─ train/\r\n",
        "    │   ├─ folder1/\r\n",
        "    │   ├─ folder2/\r\n",
        "    │   ├─ .../\r\n",
        "    │\r\n",
        "    ├─ test/\r\n",
        "    │   ├─ folder1/\r\n",
        "    │   ├─ folder2/\r\n",
        "    │   ├─ .../\r\n",
        "    |\r\n",
        "    ├─ val/\r\n",
        "    │   ├─ folder1/\r\n",
        "    │   ├─ folder2/\r\n",
        "    │   ├─ .../\r\n",
        "\r\n",
        "  \r\n",
        "  \"\"\"\r\n",
        "  assert float(data_split[0] + data_split[1] + data_split[2]) == 1.0, \"Data Split must be equal to 1\"\r\n",
        "  if not os.path.isdir(destination_dir):\r\n",
        "    os.mkdir(destination_dir)\r\n",
        "  \r\n",
        "  dirs = [\"train\", \"val\", \"test\"]\r\n",
        "\r\n",
        "  for dir in dirs:\r\n",
        "    try:\r\n",
        "      os.mkdir(os.path.join(destination_dir, dir))\r\n",
        "    except Exception as e:\r\n",
        "      print(e)\r\n",
        "\r\n",
        "    for plant_type in os.listdir(source_dir):\r\n",
        "      try:\r\n",
        "        os.mkdir(os.path.join(destination_dir, dir, plant_type))\r\n",
        "      except Exception as e:\r\n",
        "        print(e)\r\n",
        "\r\n",
        "  \r\n",
        "  def split(source, destination, total):\r\n",
        "    counter = 0\r\n",
        "    while not counter == total:\r\n",
        "      random_image = random.choice(os.listdir(source))\r\n",
        "      image_source = os.path.join(source, random_image)\r\n",
        "     \r\n",
        "      image_destination = os.path.join(destination, random_image)\r\n",
        "\r\n",
        "      shutil.move(image_source, image_destination)\r\n",
        "\r\n",
        "      counter += 1\r\n",
        "    return\r\n",
        "\r\n",
        "  for folder in os.listdir(source_dir):\r\n",
        "    \r\n",
        "  \r\n",
        "    total_images = len(os.listdir(os.path.join(source_dir, folder)))\r\n",
        "    train_total = math.floor(total_images * data_split[0])\r\n",
        "    test_total = math.floor(total_images * data_split[1])\r\n",
        "    val_total = math.floor(total_images * data_split[2])\r\n",
        "\r\n",
        "    split(join(source_dir, folder), os.path.join(destination_dir, \"train\", folder), train_total)\r\n",
        "    split(join(source_dir, folder), os.path.join(destination_dir, \"test\", folder), test_total)\r\n",
        "    split(join(source_dir, folder), os.path.join(destination_dir, \"val\", folder), val_total)\r\n",
        "\r\n",
        "    print(f\"Successfully splitted data from {os.path.join(source_dir, folder)} {os.path.join(destination_dir, folder)}\")\r\n",
        "    print(f\"\\t - Train Images: {train_total}\")\r\n",
        "    print(f\"\\t - Val Images: {val_total}\")\r\n",
        "    print(f\"\\t - Test Images: {train_total}\")\r\n",
        "    \r\n",
        "  return \r\n",
        "\r\n",
        "\r\n",
        "\r\n",
        "\r\n"
      ],
      "execution_count": 6,
      "outputs": []
    },
    {
      "cell_type": "markdown",
      "metadata": {
        "id": "v6Rph3Nlvxp3"
      },
      "source": [
        "# Model Training"
      ]
    },
    {
      "cell_type": "code",
      "metadata": {
        "id": "wDiRrCv1uaVH"
      },
      "source": [
        "delete_plants(\"corn\")\r\n"
      ],
      "execution_count": 7,
      "outputs": []
    },
    {
      "cell_type": "code",
      "metadata": {
        "colab": {
          "base_uri": "https://localhost:8080/"
        },
        "id": "M07rCFsNJpJ3",
        "outputId": "cf9d6dae-4efc-432b-baf3-d6842f708d60"
      },
      "source": [
        "train_val_test_split(\"/content/dataset\", \"/content/split\")"
      ],
      "execution_count": 8,
      "outputs": [
        {
          "output_type": "stream",
          "text": [
            "Successfully splitted data from /content/dataset/Corn___Cercospora_leaf_spot Gray_leaf_spot /content/split/Corn___Cercospora_leaf_spot Gray_leaf_spot\n",
            "\t - Train Images: 307\n",
            "\t - Val Images: 102\n",
            "\t - Test Images: 307\n",
            "Successfully splitted data from /content/dataset/Corn___healthy /content/split/Corn___healthy\n",
            "\t - Train Images: 697\n",
            "\t - Val Images: 232\n",
            "\t - Test Images: 697\n",
            "Successfully splitted data from /content/dataset/Corn___Common_rust /content/split/Corn___Common_rust\n",
            "\t - Train Images: 715\n",
            "\t - Val Images: 238\n",
            "\t - Test Images: 715\n",
            "Successfully splitted data from /content/dataset/Corn___Northern_Leaf_Blight /content/split/Corn___Northern_Leaf_Blight\n",
            "\t - Train Images: 591\n",
            "\t - Val Images: 197\n",
            "\t - Test Images: 591\n"
          ],
          "name": "stdout"
        }
      ]
    },
    {
      "cell_type": "code",
      "metadata": {
        "id": "zncp5Hf1xPei"
      },
      "source": [
        "from tensorflow.keras.models import load_model, save_model, Sequential\r\n",
        "from tensorflow.keras.preprocessing.image import ImageDataGenerator\r\n",
        "from tensorflow.keras.layers import Dense, Dropout, Flatten, GlobalAveragePooling2D\r\n",
        "from tensorflow.keras.optimizers import Adam\r\n",
        "from tensorflow.keras.callbacks import EarlyStopping"
      ],
      "execution_count": 9,
      "outputs": []
    },
    {
      "cell_type": "code",
      "metadata": {
        "id": "SYV7eQ38y6py"
      },
      "source": [
        "# We will fine-tune EfficientLite-Lite4\r\n",
        "img_size = 380\r\n",
        "batch_size = 64\r\n",
        "\r\n",
        "train_dir = \"/content/split/train\"\r\n",
        "val_dir = \"/content/split/val\"\r\n",
        "test_dir = \"/content/split/test\""
      ],
      "execution_count": 10,
      "outputs": []
    },
    {
      "cell_type": "code",
      "metadata": {
        "colab": {
          "base_uri": "https://localhost:8080/"
        },
        "id": "Cwvk_stk1yJs",
        "outputId": "69e82101-709a-4d7d-be21-ac67c06f6e3a"
      },
      "source": [
        "# Data Split\r\n",
        "# Training Data - 60%\r\n",
        "# Validation Data - 20%\r\n",
        "# Test Data - 20%\r\n",
        "\r\n",
        "datagen = ImageDataGenerator(\r\n",
        "    horizontal_flip = True,\r\n",
        "    vertical_flip = True,\r\n",
        "    brightness_range = [0.7, 1.3],\r\n",
        "    zoom_range = [0.9, 1.1],\r\n",
        "    rescale = 1/255,\r\n",
        ")\r\n",
        "\r\n",
        "train_gen = datagen.flow_from_directory(\r\n",
        "    train_dir, \r\n",
        "    target_size = (img_size, img_size),\r\n",
        "    color_mode = 'rgb',\r\n",
        "    batch_size = batch_size,\r\n",
        "    shuffle = True,\r\n",
        ")\r\n",
        "\r\n",
        "test_gen = datagen.flow_from_directory(\r\n",
        "    test_dir, \r\n",
        "    target_size = (img_size, img_size),\r\n",
        "    color_mode = 'rgb',\r\n",
        "    batch_size = batch_size,\r\n",
        "    shuffle = False,\r\n",
        ")\r\n",
        "\r\n",
        "val_gen = datagen.flow_from_directory(\r\n",
        "    val_dir,\r\n",
        "    target_size = (img_size, img_size),\r\n",
        "    color_mode = 'rgb',\r\n",
        "    batch_size = batch_size,\r\n",
        "    shuffle = True,\r\n",
        ")\r\n"
      ],
      "execution_count": 11,
      "outputs": [
        {
          "output_type": "stream",
          "text": [
            "Found 2310 images belonging to 4 classes.\n",
            "Found 769 images belonging to 4 classes.\n",
            "Found 769 images belonging to 4 classes.\n"
          ],
          "name": "stdout"
        }
      ]
    },
    {
      "cell_type": "code",
      "metadata": {
        "id": "Soxb7TDPhfwY"
      },
      "source": [
        "URL = 'https://tfhub.dev/tensorflow/efficientnet/lite4/feature-vector/2'\r\n",
        "pretrained_model = hub.KerasLayer(URL, input_shape = (img_size, img_size,3))"
      ],
      "execution_count": 12,
      "outputs": []
    },
    {
      "cell_type": "code",
      "metadata": {
        "id": "KkzkTMBjhmxN"
      },
      "source": [
        "corn_model = Sequential(name=\"Corn_Model\")\r\n",
        "corn_model.add(Flatten())\r\n",
        "corn_model.add(Dense(512, activation = 'relu'))\r\n",
        "corn_model.add(Dropout(.30))\r\n",
        "corn_model.add(Dense(len(train_gen.class_indices), activation = 'softmax'))\r\n",
        "\r\n",
        "training_model = Sequential([\r\n",
        "                             pretrained_model, \r\n",
        "                             corn_model,\r\n",
        "])"
      ],
      "execution_count": 14,
      "outputs": []
    },
    {
      "cell_type": "code",
      "metadata": {
        "colab": {
          "base_uri": "https://localhost:8080/"
        },
        "id": "iUZ7vP9ziKGa",
        "outputId": "571ce23e-6a4d-40ad-c336-f64728d1ca2f"
      },
      "source": [
        "training_model.summary()"
      ],
      "execution_count": 15,
      "outputs": [
        {
          "output_type": "stream",
          "text": [
            "Model: \"sequential\"\n",
            "_________________________________________________________________\n",
            "Layer (type)                 Output Shape              Param #   \n",
            "=================================================================\n",
            "keras_layer (KerasLayer)     (None, 1280)              11837936  \n",
            "_________________________________________________________________\n",
            "Corn_Model (Sequential)      (None, 4)                 657924    \n",
            "=================================================================\n",
            "Total params: 12,495,860\n",
            "Trainable params: 657,924\n",
            "Non-trainable params: 11,837,936\n",
            "_________________________________________________________________\n"
          ],
          "name": "stdout"
        }
      ]
    },
    {
      "cell_type": "code",
      "metadata": {
        "id": "2VZttTRbiOdm"
      },
      "source": [
        "training_model.compile(optimizer=Adam(), loss=\"categorical_crossentropy\", metrics=['accuracy'])\r\n",
        "es = EarlyStopping(monitor = 'val_loss', patience =3)"
      ],
      "execution_count": 16,
      "outputs": []
    },
    {
      "cell_type": "code",
      "metadata": {
        "colab": {
          "base_uri": "https://localhost:8080/"
        },
        "id": "_rQWn7vWi3E2",
        "outputId": "bbb29461-21ee-43a1-d5b8-c612895503c6"
      },
      "source": [
        "training_history = training_model.fit(train_gen, validation_data= val_gen, epochs = 5, callbacks = es)"
      ],
      "execution_count": 17,
      "outputs": [
        {
          "output_type": "stream",
          "text": [
            "Epoch 1/5\n",
            "37/37 [==============================] - 119s 3s/step - loss: 0.5883 - accuracy: 0.7783 - val_loss: 0.2215 - val_accuracy: 0.9103\n",
            "Epoch 2/5\n",
            "37/37 [==============================] - 108s 3s/step - loss: 0.1617 - accuracy: 0.9366 - val_loss: 0.1570 - val_accuracy: 0.9272\n",
            "Epoch 3/5\n",
            "37/37 [==============================] - 107s 3s/step - loss: 0.1486 - accuracy: 0.9368 - val_loss: 0.1776 - val_accuracy: 0.9194\n",
            "Epoch 4/5\n",
            "37/37 [==============================] - 109s 3s/step - loss: 0.1314 - accuracy: 0.9441 - val_loss: 0.1693 - val_accuracy: 0.9311\n",
            "Epoch 5/5\n",
            "37/37 [==============================] - 107s 3s/step - loss: 0.1267 - accuracy: 0.9496 - val_loss: 0.1632 - val_accuracy: 0.9285\n"
          ],
          "name": "stdout"
        }
      ]
    },
    {
      "cell_type": "code",
      "metadata": {
        "id": "RKon3IMhoQu4"
      },
      "source": [
        "os.chdir(\"/content/drive/MyDrive/Research/models\")\r\n",
        "corn_model.save(\"corn.h5\")"
      ],
      "execution_count": 18,
      "outputs": []
    },
    {
      "cell_type": "code",
      "metadata": {
        "colab": {
          "base_uri": "https://localhost:8080/",
          "height": 295
        },
        "id": "F3PEfEmHpjO8",
        "outputId": "9a6ccdd0-b84b-4d0f-e0fd-521b8fff1650"
      },
      "source": [
        "plt.plot(training_history.history['accuracy'])\r\n",
        "plt.plot(training_history.history['val_accuracy'])\r\n",
        "plt.title('Corn Model Accuracy')\r\n",
        "plt.ylabel('Accuracy')\r\n",
        "plt.xlabel('Epoch')\r\n",
        "plt.legend(['Train','Validation'], loc = 'upper left')\r\n",
        "plt.show()\r\n"
      ],
      "execution_count": 19,
      "outputs": [
        {
          "output_type": "display_data",
          "data": {
            "image/png": "[encoded data removed]",
            "text/plain": [
              "<Figure size 432x288 with 1 Axes>"
            ]
          },
          "metadata": {
            "tags": [],
            "needs_background": "light"
          }
        }
      ]
    }
  ]
}