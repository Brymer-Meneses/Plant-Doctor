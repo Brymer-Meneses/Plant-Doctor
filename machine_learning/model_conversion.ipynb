{
  "nbformat": 4,
  "nbformat_minor": 0,
  "metadata": {
    "colab": {
      "name": "model_conversion.ipynb",
      "provenance": [],
      "authorship_tag": "ABX9TyP30jE56C+1LffV1oYU/3QY",
      "include_colab_link": true
    },
    "kernelspec": {
      "name": "python3",
      "display_name": "Python 3"
    }
  },
  "cells": [
    {
      "cell_type": "markdown",
      "metadata": {
        "id": "view-in-github",
        "colab_type": "text"
      },
      "source": [
        "<a href=\"https://colab.research.google.com/github/Brymer-Meneses/Plant-Doctor/blob/main/machine_learning/model_conversion.ipynb\" target=\"_parent\"><img src=\"https://colab.research.google.com/assets/colab-badge.svg\" alt=\"Open In Colab\"/></a>"
      ]
    },
    {
      "cell_type": "code",
      "metadata": {
        "id": "Mjmaq_28xFus"
      },
      "source": [
        "import tensorflow as tf\r\n",
        "import tensorflow_hub as hub\r\n",
        "import os\r\n",
        "\r\n",
        "from tensorflow.keras.models import load_model"
      ],
      "execution_count": 6,
      "outputs": []
    },
    {
      "cell_type": "code",
      "metadata": {
        "colab": {
          "base_uri": "https://localhost:8080/"
        },
        "id": "gwP-Fgv2yzCS",
        "outputId": "ba9b65fe-04a8-4856-d80c-4d1aed274a52"
      },
      "source": [
        "from google.colab import drive\r\n",
        "drive.mount('drive', force_remount=True)"
      ],
      "execution_count": 2,
      "outputs": [
        {
          "output_type": "stream",
          "text": [
            "Mounted at drive\n"
          ],
          "name": "stdout"
        }
      ]
    },
    {
      "cell_type": "code",
      "metadata": {
        "id": "m_px5Wnky4rX"
      },
      "source": [
        "efficientnet_path = '/content/drive/MyDrive/Research/models/EfficientNet-Lite4.h5'\r\n",
        "apple_path = '/content/drive/MyDrive/Research/models/apple.h5'\r\n",
        "corn_path = '/content/drive/MyDrive/Research/models/corn.h5'"
      ],
      "execution_count": 3,
      "outputs": []
    },
    {
      "cell_type": "code",
      "metadata": {
        "id": "aSDcNlLezauQ"
      },
      "source": [
        "efficientnet = load_model(efficientnet_path, custom_objects={'KerasLayer': hub.KerasLayer})\r\n",
        "apple = load_model(apple_path)\r\n",
        "corn = load_model(corn_path)"
      ],
      "execution_count": null,
      "outputs": []
    },
    {
      "cell_type": "code",
      "metadata": {
        "id": "vh-RxVZb0Cto"
      },
      "source": [
        "def convert_keras_model(model, save_path):\r\n",
        "  converter = tf.lite.TFLiteConverter.from_keras_model(model)\r\n",
        "  tflite_model = converter.convert()\r\n",
        "\r\n",
        "  os.chdir(save_path)\r\n",
        "  with open(f'{model.name}.tflite', 'wb') as f:\r\n",
        "    f.write(tflite_model)\r\n",
        "  return\r\n"
      ],
      "execution_count": 8,
      "outputs": []
    },
    {
      "cell_type": "code",
      "metadata": {
        "id": "SKfSmdDUz1I-"
      },
      "source": [
        "convert_keras_model(efficientnet, '/content/drive/MyDrive/Research/converted_models')\r\n",
        "convert_keras_model(apple, '/content/drive/MyDrive/Research/converted_models')\r\n",
        "convert_keras_model(corn, '/content/drive/MyDrive/Research/converted_models')"
      ],
      "execution_count": null,
      "outputs": []
    }
  ]
}