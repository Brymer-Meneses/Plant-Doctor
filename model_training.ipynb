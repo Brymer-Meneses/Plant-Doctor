{
  "nbformat": 4,
  "nbformat_minor": 0,
  "metadata": {
    "colab": {
      "name": "Research v1.3.ipynb",
      "provenance": [],
      "collapsed_sections": [],
      "mount_file_id": "1KLGKqyCu89H9sn97vyQ8xOeAuUJ4jNL1",
      "authorship_tag": "ABX9TyMHIrx/6c5ja7EPQBtnIO6k",
      "include_colab_link": true
    },
    "kernelspec": {
      "name": "python3",
      "display_name": "Python 3"
    }
  },
  "cells": [
    {
      "cell_type": "markdown",
      "metadata": {
        "id": "view-in-github",
        "colab_type": "text"
      },
      "source": [
        "<a href=\"https://colab.research.google.com/github/Brymer-Meneses/Plant-Doctor/blob/main/model_training.ipynb\" target=\"_parent\"><img src=\"https://colab.research.google.com/assets/colab-badge.svg\" alt=\"Open In Colab\"/></a>"
      ]
    },
    {
      "cell_type": "markdown",
      "metadata": {
        "id": "y9toSIF1tczn"
      },
      "source": [
        "# **Prerequisites**"
      ]
    },
    {
      "cell_type": "code",
      "metadata": {
        "id": "5Ds8_L3Vr6qf"
      },
      "source": [
        "import tensorflow as tf\n",
        "import pandas as pd\n",
        "import numpy as np\n",
        "import matplotlib.pyplot as plt\n",
        "\n",
        "from sklearn.model_selection import train_test_split\n",
        "from tensorflow.keras.models import Sequential\n",
        "from tensorflow.keras.layers import Dense, Conv2D, BatchNormalization, Dropout, Flatten, \\\n",
        "                                    GlobalAveragePooling2D\n",
        "from tensorflow.keras.preprocessing.image import ImageDataGenerator\n",
        "\n",
        "import tqdm\n",
        "import shutil\n",
        "import random\n",
        "import math\n",
        "import os \n",
        "\n",
        "from os.path import join\n",
        "from zipfile import ZipFile\n"
      ],
      "execution_count": 69,
      "outputs": []
    },
    {
      "cell_type": "code",
      "metadata": {
        "id": "Z9lL6qhJtFgP"
      },
      "source": [
        "from google.colab import drive\n",
        "drive.mount('/content/drive', force_remount = True)"
      ],
      "execution_count": null,
      "outputs": []
    },
    {
      "cell_type": "markdown",
      "metadata": {
        "id": "Aa7P0clStgtm"
      },
      "source": [
        "# **Download the Datasets**"
      ]
    },
    {
      "cell_type": "code",
      "metadata": {
        "id": "p1j-RBB2tpKl"
      },
      "source": [
        "raw = {\n",
        "        'raw_main': '/content/raw',\n",
        "        'raw_ds1': '/content/raw/ds1',\n",
        "        'raw_ds2': '/content/raw/ds2',\n",
        "        'raw_ds3' : '/content/raw/ds3',\n",
        "        'raw_all' : '/content/raw/all'\n",
        "    }\n",
        "\n",
        "main = {\n",
        "        'main' : '/content/datasets',\n",
        "        'apple' : '/content/datasets/apple',\n",
        "        'cherry' : '/content/datasets/cherry',\n",
        "        'citrus' : '/content/datasets/citrus',\n",
        "        'corn' : '/content/datasets/corn',\n",
        "        'grape' : '/content/datasets/grape',\n",
        "        'peach' : '/content/datasets/peach',\n",
        "        'pepper' : '/content/datasets/pepper',\n",
        "        'potato' : '/content/datasets/potato',\n",
        "        'rice': '/content/datasets/rice',\n",
        "        'strawberry': '/content/datasets/strawberry',\n",
        "        'tomato': '/content/datasets/tomato'\n",
        "    }\n"
      ],
      "execution_count": 2,
      "outputs": []
    },
    {
      "cell_type": "code",
      "metadata": {
        "id": "C8tDvA6ptaK3"
      },
      "source": [
        "os.environ['KAGGLE_CONFIG_DIR'] = \"/content/drive/MyDrive/External Datasets/Kaggle\"\n"
      ],
      "execution_count": 3,
      "outputs": []
    },
    {
      "cell_type": "code",
      "metadata": {
        "id": "-uv93e8xt8eF"
      },
      "source": [
        "# Make Directories for datasets\n",
        "for dir in raw:\n",
        "  try:\n",
        "    os.mkdir(raw[dir])\n",
        "  except Exception as e:\n",
        "    print(e)\n",
        "\n",
        "for dir in main:\n",
        "  try:\n",
        "    os.mkdir(main[dir])\n",
        "  except Exception as e:\n",
        "    print(e)\n",
        "\n"
      ],
      "execution_count": 4,
      "outputs": []
    },
    {
      "cell_type": "code",
      "metadata": {
        "id": "2A_6K1Xmt2dM"
      },
      "source": [
        "os.chdir(raw['raw_ds1'])\n",
        "!wget https://data.mendeley.com/public-files/datasets/tywbtsjrjv/files/d5652a28-c1d8-4b76-97f3-72fb80f94efc/file_downloaded\n",
        "os.rename('/content/raw/ds1/file_downloaded', '/content/raw/ds1/plantvillage-dataset.zip')\n",
        "\n",
        "os.chdir(raw['raw_ds2'])\n",
        "!kaggle datasets download -d minhhuy2810/rice-diseases-image-dataset\n",
        "\n",
        "os.chdir(raw['raw_ds3'])\n",
        "!wget https://md-datasets-cache-zipfiles-prod.s3.eu-west-1.amazonaws.com/3f83gxmv57-2.zip"
      ],
      "execution_count": null,
      "outputs": []
    },
    {
      "cell_type": "code",
      "metadata": {
        "id": "O0oSLLQZuNIl"
      },
      "source": [
        "# Extract the first dataset\n",
        "\n",
        "os.chdir('/content/raw/ds1')\n",
        "zip_ds1_dir ='/content/raw/ds1/plantvillage-dataset.zip'\n",
        "zip_ds1 = ZipFile(zip_ds1_dir, 'r')\n",
        "zip_ds1.extractall()\n",
        "\n",
        "os.remove('/content/raw/ds1/plantvillage-dataset.zip')\n",
        "\n",
        "# Extract the second dataset\n",
        "\n",
        "os.chdir('/content/raw/ds2')\n",
        "zip_ds2_dir = '/content/raw/ds2/rice-diseases-image-dataset.zip'\n",
        "zip_ds2 = ZipFile(zip_ds2_dir, 'r')\n",
        "\n",
        "for file in zip_ds2.namelist():\n",
        "  if file.startswith('LabelledRice/'):\n",
        "    zip_ds2.extract(file, '/content/raw/ds2')\n",
        "\n",
        "os.remove('/content/raw/ds2/rice-diseases-image-dataset.zip')\n",
        "\n",
        "# Extract the third dataset\n",
        "\n",
        "os.chdir('/content/raw/ds3')\n",
        "zip_ds3_dir = '/content/raw/ds3/3f83gxmv57-2.zip'\n",
        "zip_ds3 = ZipFile(zip_ds3_dir, 'r')\n",
        "zip_ds3.extractall()\n",
        "\n",
        "zip_ds3_dir1 = '/content/raw/ds3/Citrus Plant Dataset/Citrus.zip'\n",
        "zip_ds3_1 = ZipFile(zip_ds3_dir1, 'r')\n",
        "zip_ds3_1.extractall()"
      ],
      "execution_count": 6,
      "outputs": []
    },
    {
      "cell_type": "code",
      "metadata": {
        "id": "KGYYE5LEvzsA"
      },
      "source": [
        "ds2_dir = '/content/raw/ds2/LabelledRice/Labelled'\n",
        "for folder in os.listdir(ds2_dir):\n",
        "\n",
        "  folder_path = join(ds2_dir, folder)\n",
        "  folder_new = join(ds2_dir, f'Rice__{folder}')\n",
        "\n",
        "  os.rename(folder_path, folder_new)\n"
      ],
      "execution_count": 7,
      "outputs": []
    },
    {
      "cell_type": "code",
      "metadata": {
        "id": "z24KmESiv2RK"
      },
      "source": [
        "ds3_dir = '/content/raw/ds3/Citrus/Leaves'\n",
        "\n",
        "for folder in os.listdir(ds3_dir):\n",
        "  folder_path = join(ds3_dir, folder)\n",
        "  folder_new = join(ds3_dir, f'Citrus__{folder}')\n",
        "\n",
        "  os.rename(folder_path, folder_new)"
      ],
      "execution_count": 8,
      "outputs": []
    },
    {
      "cell_type": "code",
      "metadata": {
        "id": "5Ta9Cqjqv4xl"
      },
      "source": [
        "ds1_dir = '/content/raw/ds1/Plant_leave_diseases_dataset_without_augmentation'\n",
        "ds2_dir = '/content/raw/ds2/LabelledRice/Labelled'\n",
        "ds3_dir = '/content/raw/ds3/Citrus/Leaves'\n",
        "\n",
        "ds_dirs = [ds1_dir, ds2_dir, ds3_dir]\n",
        "\n",
        "for dir in ds_dirs:\n",
        "  for folder in os.listdir(dir):\n",
        "    folder_source = join(dir, folder)\n",
        "    folder_des = join(raw['raw_all'], folder)\n",
        "\n",
        "    shutil.move(folder_source, folder_des)"
      ],
      "execution_count": 9,
      "outputs": []
    },
    {
      "cell_type": "code",
      "metadata": {
        "id": "MqdBnGJTwEFi"
      },
      "source": [
        "# Delete unnecessary folders \n",
        "\n",
        "del_paths = [\n",
        "             '/content/raw/all/Background_without_leaves',\n",
        "             '/content/raw/all/Blueberry___healthy',\n",
        "             '/content/raw/all/Orange___Haunglongbing_(Citrus_greening)',\n",
        "             '/content/raw/all/Raspberry___healthy',\n",
        "             '/content/raw/all/Soybean___healthy',\n",
        "             '/content/raw/all/Squash___Powdery_mildew',\n",
        "          \n",
        "]\n",
        "\n",
        "for path in del_paths:\n",
        "  try: shutil.rmtree(path)\n",
        "  except Exception as e:\n",
        "    print(e)"
      ],
      "execution_count": 10,
      "outputs": []
    },
    {
      "cell_type": "code",
      "metadata": {
        "id": "L9k4vS6Tw8ze"
      },
      "source": [
        "raw_all = raw['raw_all']\n",
        "\n",
        "for plant in os.listdir(main['main']):\n",
        "  for folder in os.listdir(raw_all):\n",
        "    if plant in folder.lower():\n",
        "      plant_source = join(raw_all, folder)\n",
        "      plant_des = main[plant]\n",
        "      try:\n",
        "        shutil.move(plant_source, plant_des)\n",
        "      except Exception as e:\n",
        "        print(e)"
      ],
      "execution_count": 13,
      "outputs": []
    },
    {
      "cell_type": "code",
      "metadata": {
        "id": "sKPGAIuH1HCu"
      },
      "source": [
        "shutil.rmtree('/content/raw')"
      ],
      "execution_count": 14,
      "outputs": []
    },
    {
      "cell_type": "markdown",
      "metadata": {
        "id": "T7gDhA0U1VTi"
      },
      "source": [
        "# **Load the dataset in a dataframe**"
      ]
    },
    {
      "cell_type": "code",
      "metadata": {
        "id": "sWA5d2fs1dkj"
      },
      "source": [
        "ds_main = main['main']\n",
        "dataset = pd.DataFrame()\n",
        "\n",
        "for plant in os.listdir(ds_main):\n",
        "  plant_folder = join(ds_main, plant)\n",
        "\n",
        "  for classification in os.listdir(plant_folder):\n",
        "    classification_folder = join(plant_folder, classification)\n",
        "\n",
        "    dataset[classification] = os.listdir(classification_folder)\n",
        "    \n"
      ],
      "execution_count": 15,
      "outputs": []
    },
    {
      "cell_type": "code",
      "metadata": {
        "id": "56OrcwkNPZah"
      },
      "source": [
        "ds_main = main['main']"
      ],
      "execution_count": 77,
      "outputs": []
    },
    {
      "cell_type": "code",
      "metadata": {
        "id": "aPsk47J2Bfa5"
      },
      "source": [
        "def gen_df(dir):\n",
        "  temp = []\n",
        "  for root, sub_dir, files in os.walk(dir):\n",
        "    if files == []: \n",
        "      continue\n",
        "\n",
        "    new_files = []\n",
        "    for file in files:\n",
        "      file = root + file\n",
        "      new_files.append(file)\n",
        "\n",
        "    plant_class = root.split('/')[4] \n",
        "    temp_df = pd.DataFrame()\n",
        "    temp_df['filename'] = new_files\n",
        "    temp_df['class'] = [plant_class for file in new_files]\n",
        "    temp.append(temp_df)\n",
        "\n",
        "  df = pd.concat(temp, axis = 0, join = 'outer')\n",
        "\n",
        "  # Shuffles the dataframe\n",
        "  df = df.sample(frac=1).reset_index(drop=True) \n",
        "  return df\n",
        "  \n",
        "    \n"
      ],
      "execution_count": 62,
      "outputs": []
    },
    {
      "cell_type": "code",
      "metadata": {
        "id": "TkUGTdmTJ3Bk"
      },
      "source": [
        "def gen_df(dir):\n",
        "  temp = []\n",
        "  for root, sub_dir, files in os.walk(dir):\n",
        "    if files == []: \n",
        "      continue\n",
        "\n",
        "    new_files = []\n",
        "    for file in files:\n",
        "      file = root + file\n",
        "      new_files.append(file)\n",
        "\n",
        "    plant_class = root.split('/')[4] \n",
        "    temp_df = pd.DataFrame()\n",
        "    temp_df['filename'] = new_files\n",
        "    temp_df['class'] = [plant_class for file in new_files]\n",
        "    temp.append(temp_df)\n",
        "\n",
        "  df = pd.concat(temp, axis = 0, join = 'outer')\n",
        "\n",
        "  # Shuffles the dataframe\n",
        "  df = df.sample(frac=1).reset_index(drop=True) \n",
        "  return df\n",
        "  "
      ],
      "execution_count": 71,
      "outputs": []
    },
    {
      "cell_type": "code",
      "metadata": {
        "id": "EGfwW9ziMafD"
      },
      "source": [
        "\n",
        "def split(dir, split = [0.6, 0.2, 0.2],):\n",
        "  datasets = []\n",
        "  train_split = split[0]\n",
        "  val_split = split[1]\n",
        "  test_split = split[2]\n",
        "  \n",
        "  for plant in os.listdir(dir):\n",
        "    plant_path = join(ds_main, plant)\n",
        "\n",
        "\n",
        "    temp_df = gen_df(plant_path)\n",
        "\n",
        "    x, y = temp_df['filename'], temp_df['class']\n",
        "\n",
        "    x_temp, x_test, y_temp, y_test = train_test_split(\n",
        "        x, y, train_size = (train_split + val_split), test_size = test_split)\n",
        "    \n",
        "    x_train, x_val, y_train, y_val = train_test_split(\n",
        "        x_temp, y_temp, train_size = (train_split), test_size = val_split)\n",
        "    \n",
        "    train_data = pd.DataFrame()\n",
        "    test_data = pd.DataFrame()\n",
        "    val_data = pd.DataFrame()\n",
        "\n",
        "    train_data['filename'] = x_train\n",
        "    train_data['target'] = y_train\n",
        "\n",
        "    test_data['filename'] = x_test\n",
        "    test_data['target'] = y_test\n",
        "    \n",
        "    val_data['filename'] = x_val\n",
        "    val_data['target'] = y_val\n",
        "\n",
        "\n",
        "    data = [train_data, test_data, val_data]\n",
        "    datasets.append(data)\n",
        "\n",
        "  return datasets"
      ],
      "execution_count": 94,
      "outputs": []
    },
    {
      "cell_type": "code",
      "metadata": {
        "colab": {
          "base_uri": "https://localhost:8080/"
        },
        "id": "SnP_gUl7SvvO",
        "outputId": "704357e8-d5c8-49a2-a068-5b544a278f62"
      },
      "source": [
        "for plant in os.listdir(ds_main):\n",
        "  print(plant)"
      ],
      "execution_count": 105,
      "outputs": [
        {
          "output_type": "stream",
          "text": [
            "strawberry\n",
            "peach\n",
            "rice\n",
            "cherry\n",
            "grape\n",
            "pepper\n",
            "corn\n",
            "potato\n",
            "tomato\n",
            "citrus\n",
            "apple\n"
          ],
          "name": "stdout"
        }
      ]
    },
    {
      "cell_type": "code",
      "metadata": {
        "id": "W5XoG3fTPCns"
      },
      "source": [
        "ds = split(ds_main)"
      ],
      "execution_count": 98,
      "outputs": []
    },
    {
      "cell_type": "code",
      "metadata": {
        "id": "xyeVwq7EQIPr"
      },
      "source": [
        "strawberry, peach, rice, cherry, grape, pepper, corn, potato, tomato, citrus, apple = ds"
      ],
      "execution_count": 106,
      "outputs": []
    },
    {
      "cell_type": "code",
      "metadata": {
        "colab": {
          "base_uri": "https://localhost:8080/"
        },
        "id": "qpJwdUxWQYmz",
        "outputId": "5ae764dc-ae3d-4f6a-b100-a3ab8b238bd8"
      },
      "source": [
        "train, test, val = rice\n",
        "print(len(train))\n",
        "print(len(test))\n",
        "print(len(val))"
      ],
      "execution_count": 116,
      "outputs": [
        {
          "output_type": "stream",
          "text": [
            "1610\n",
            "671\n",
            "537\n"
          ],
          "name": "stdout"
        }
      ]
    }
  ]
}